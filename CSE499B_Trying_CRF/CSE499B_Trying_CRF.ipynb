{
  "nbformat": 4,
  "nbformat_minor": 0,
  "metadata": {
    "colab": {
      "provenance": [],
      "authorship_tag": "ABX9TyM9cMmelZ600BxZhEXK5093",
      "include_colab_link": true
    },
    "kernelspec": {
      "name": "python3",
      "display_name": "Python 3"
    },
    "language_info": {
      "name": "python"
    }
  },
  "cells": [
    {
      "cell_type": "markdown",
      "metadata": {
        "id": "view-in-github",
        "colab_type": "text"
      },
      "source": [
        "<a href=\"https://colab.research.google.com/github/RapaDewan/CSE499B_Capstone/blob/main/CSE499B_Trying_CRF/CSE499B_Trying_CRF.ipynb\" target=\"_parent\"><img src=\"https://colab.research.google.com/assets/colab-badge.svg\" alt=\"Open In Colab\"/></a>"
      ]
    },
    {
      "cell_type": "code",
      "execution_count": 2,
      "metadata": {
        "colab": {
          "base_uri": "https://localhost:8080/"
        },
        "id": "Z7JC6NEhvsTz",
        "outputId": "e4de5b41-43a8-4612-ff04-ef011ee2283a"
      },
      "outputs": [
        {
          "output_type": "stream",
          "name": "stdout",
          "text": [
            "Mounted at /content/drive\n"
          ]
        }
      ],
      "source": [
        "from google.colab import drive\n",
        "import pandas as pd\n",
        "\n",
        "from google.colab import drive\n",
        "drive.mount('/content/drive')\n",
        "\n"
      ]
    },
    {
      "cell_type": "code",
      "source": [
        "# Replace 'path_to_dataset' with the actual path to your dataset in Google Drive\n",
        "import pandas as pd\n",
        "file_path = '/content/drive/MyDrive/Resume.csv'\n",
        "df = pd.read_csv(file_path)"
      ],
      "metadata": {
        "id": "u203HKDBxDHN"
      },
      "execution_count": 3,
      "outputs": []
    },
    {
      "cell_type": "code",
      "source": [
        "# Check the first few rows to confirm the dataset is loaded\n",
        "print(df.head())"
      ],
      "metadata": {
        "colab": {
          "base_uri": "https://localhost:8080/"
        },
        "id": "7idgs7okzXhD",
        "outputId": "00156014-0722-4a31-be9c-d93ca8a669b4"
      },
      "execution_count": 4,
      "outputs": [
        {
          "output_type": "stream",
          "name": "stdout",
          "text": [
            "         ID                                         Resume_str  \\\n",
            "0  16852973           HR ADMINISTRATOR/MARKETING ASSOCIATE\\...   \n",
            "1  22323967           HR SPECIALIST, US HR OPERATIONS      ...   \n",
            "2  33176873           HR DIRECTOR       Summary      Over 2...   \n",
            "3  27018550           HR SPECIALIST       Summary    Dedica...   \n",
            "4  17812897           HR MANAGER         Skill Highlights  ...   \n",
            "\n",
            "                                         Resume_html Category  \n",
            "0  <div class=\"fontsize fontface vmargins hmargin...       HR  \n",
            "1  <div class=\"fontsize fontface vmargins hmargin...       HR  \n",
            "2  <div class=\"fontsize fontface vmargins hmargin...       HR  \n",
            "3  <div class=\"fontsize fontface vmargins hmargin...       HR  \n",
            "4  <div class=\"fontsize fontface vmargins hmargin...       HR  \n"
          ]
        }
      ]
    },
    {
      "cell_type": "code",
      "source": [
        "# Shuffle the dataset\n",
        "df = df.sample(frac=1, random_state=42).reset_index(drop=True)\n",
        "\n",
        "# Select 20 samples from the shuffled dataset\n",
        "df_samples = df.head(20)\n",
        "\n",
        "# Display the first few samples\n",
        "print(df_samples[['ID', 'Resume_str']])\n"
      ],
      "metadata": {
        "colab": {
          "base_uri": "https://localhost:8080/"
        },
        "id": "JFfQGgBdzbQh",
        "outputId": "33cdd227-5d05-41a8-8b46-9e545127af5b"
      },
      "execution_count": 5,
      "outputs": [
        {
          "output_type": "stream",
          "name": "stdout",
          "text": [
            "          ID                                         Resume_str\n",
            "0   99244405             Kpandipou    Koffi         Summary ...\n",
            "1   17562754           DIRECTOR OF DIGITAL TRANSFORMATION   ...\n",
            "2   30311725           SENIOR PROJECT MANAGER       Professi...\n",
            "3   19007667           CHEF       Summary     Experienced ca...\n",
            "4   11065180           OPERATIONS MANAGER       Summary    E...\n",
            "5   39237915           BUSINESS DEVELOPMENT MANAGER       Pr...\n",
            "6   17199951           JOB CAPTAIN\\nDESIGNER         Highlig...\n",
            "7   18236085           DIRECTOR OF BUSINESS DEVELOPMENT     ...\n",
            "8   79663360           SUBSTITUTE TEACHER       Professional...\n",
            "9   62312955        R        GRAPHIC ARTIST, DESIGNER       ...\n",
            "10  12333703           FACILITY MANAGER         Summary    O...\n",
            "11  45907524           ADMINISTRATIVE ASSISTANT           Ex...\n",
            "12  20552814           SALES         Summary    Enthusiastic...\n",
            "13  73030450           SENIOR NETWORK SECURITY ENGINEER     ...\n",
            "14  14508237           AGENCY SALES RESOURCES       Summary ...\n",
            "15  37360517           SALES CLERK         Summary of Skills...\n",
            "16  25080805           INTERNSHIP           Professional Ove...\n",
            "17  36694627           SHELTER ADVOCATE           Summary   ...\n",
            "18  18106533           ADMINISTRATIVE ASSISTANT       Career...\n",
            "19  28419173           HR ASSISTANT       Professional Profi...\n"
          ]
        }
      ]
    },
    {
      "cell_type": "code",
      "source": [
        "# Install spaCy if it's not already installed\n",
        "!pip install spacy\n",
        "\n",
        "# Download spaCy's English model (only need to run this once)\n",
        "!python -m spacy download en_core_web_sm\n",
        "\n",
        "import spacy\n",
        "\n",
        "# Load the spaCy English tokenizer\n",
        "nlp = spacy.load(\"en_core_web_sm\")\n",
        "\n",
        "# Tokenize the resume text using spaCy\n",
        "df_samples['Tokens'] = df_samples['Resume_str'].apply(lambda x: [token.text for token in nlp(x)])\n",
        "\n",
        "# Display tokenized resumes\n",
        "print(df_samples[['ID', 'Tokens']].head())\n"
      ],
      "metadata": {
        "colab": {
          "base_uri": "https://localhost:8080/"
        },
        "id": "rKZWrL3LzyGO",
        "outputId": "4ba9a60a-8525-49d0-838c-f42718227a96"
      },
      "execution_count": 8,
      "outputs": [
        {
          "output_type": "stream",
          "name": "stdout",
          "text": [
            "Requirement already satisfied: spacy in /usr/local/lib/python3.10/dist-packages (3.7.5)\n",
            "Requirement already satisfied: spacy-legacy<3.1.0,>=3.0.11 in /usr/local/lib/python3.10/dist-packages (from spacy) (3.0.12)\n",
            "Requirement already satisfied: spacy-loggers<2.0.0,>=1.0.0 in /usr/local/lib/python3.10/dist-packages (from spacy) (1.0.5)\n",
            "Requirement already satisfied: murmurhash<1.1.0,>=0.28.0 in /usr/local/lib/python3.10/dist-packages (from spacy) (1.0.11)\n",
            "Requirement already satisfied: cymem<2.1.0,>=2.0.2 in /usr/local/lib/python3.10/dist-packages (from spacy) (2.0.10)\n",
            "Requirement already satisfied: preshed<3.1.0,>=3.0.2 in /usr/local/lib/python3.10/dist-packages (from spacy) (3.0.9)\n",
            "Requirement already satisfied: thinc<8.3.0,>=8.2.2 in /usr/local/lib/python3.10/dist-packages (from spacy) (8.2.5)\n",
            "Requirement already satisfied: wasabi<1.2.0,>=0.9.1 in /usr/local/lib/python3.10/dist-packages (from spacy) (1.1.3)\n",
            "Requirement already satisfied: srsly<3.0.0,>=2.4.3 in /usr/local/lib/python3.10/dist-packages (from spacy) (2.5.0)\n",
            "Requirement already satisfied: catalogue<2.1.0,>=2.0.6 in /usr/local/lib/python3.10/dist-packages (from spacy) (2.0.10)\n",
            "Requirement already satisfied: weasel<0.5.0,>=0.1.0 in /usr/local/lib/python3.10/dist-packages (from spacy) (0.4.1)\n",
            "Requirement already satisfied: typer<1.0.0,>=0.3.0 in /usr/local/lib/python3.10/dist-packages (from spacy) (0.15.1)\n",
            "Requirement already satisfied: tqdm<5.0.0,>=4.38.0 in /usr/local/lib/python3.10/dist-packages (from spacy) (4.67.1)\n",
            "Requirement already satisfied: requests<3.0.0,>=2.13.0 in /usr/local/lib/python3.10/dist-packages (from spacy) (2.32.3)\n",
            "Requirement already satisfied: pydantic!=1.8,!=1.8.1,<3.0.0,>=1.7.4 in /usr/local/lib/python3.10/dist-packages (from spacy) (2.10.3)\n",
            "Requirement already satisfied: jinja2 in /usr/local/lib/python3.10/dist-packages (from spacy) (3.1.4)\n",
            "Requirement already satisfied: setuptools in /usr/local/lib/python3.10/dist-packages (from spacy) (75.1.0)\n",
            "Requirement already satisfied: packaging>=20.0 in /usr/local/lib/python3.10/dist-packages (from spacy) (24.2)\n",
            "Requirement already satisfied: langcodes<4.0.0,>=3.2.0 in /usr/local/lib/python3.10/dist-packages (from spacy) (3.5.0)\n",
            "Requirement already satisfied: numpy>=1.19.0 in /usr/local/lib/python3.10/dist-packages (from spacy) (1.26.4)\n",
            "Requirement already satisfied: language-data>=1.2 in /usr/local/lib/python3.10/dist-packages (from langcodes<4.0.0,>=3.2.0->spacy) (1.3.0)\n",
            "Requirement already satisfied: annotated-types>=0.6.0 in /usr/local/lib/python3.10/dist-packages (from pydantic!=1.8,!=1.8.1,<3.0.0,>=1.7.4->spacy) (0.7.0)\n",
            "Requirement already satisfied: pydantic-core==2.27.1 in /usr/local/lib/python3.10/dist-packages (from pydantic!=1.8,!=1.8.1,<3.0.0,>=1.7.4->spacy) (2.27.1)\n",
            "Requirement already satisfied: typing-extensions>=4.12.2 in /usr/local/lib/python3.10/dist-packages (from pydantic!=1.8,!=1.8.1,<3.0.0,>=1.7.4->spacy) (4.12.2)\n",
            "Requirement already satisfied: charset-normalizer<4,>=2 in /usr/local/lib/python3.10/dist-packages (from requests<3.0.0,>=2.13.0->spacy) (3.4.0)\n",
            "Requirement already satisfied: idna<4,>=2.5 in /usr/local/lib/python3.10/dist-packages (from requests<3.0.0,>=2.13.0->spacy) (3.10)\n",
            "Requirement already satisfied: urllib3<3,>=1.21.1 in /usr/local/lib/python3.10/dist-packages (from requests<3.0.0,>=2.13.0->spacy) (2.2.3)\n",
            "Requirement already satisfied: certifi>=2017.4.17 in /usr/local/lib/python3.10/dist-packages (from requests<3.0.0,>=2.13.0->spacy) (2024.12.14)\n",
            "Requirement already satisfied: blis<0.8.0,>=0.7.8 in /usr/local/lib/python3.10/dist-packages (from thinc<8.3.0,>=8.2.2->spacy) (0.7.11)\n",
            "Requirement already satisfied: confection<1.0.0,>=0.0.1 in /usr/local/lib/python3.10/dist-packages (from thinc<8.3.0,>=8.2.2->spacy) (0.1.5)\n",
            "Requirement already satisfied: click>=8.0.0 in /usr/local/lib/python3.10/dist-packages (from typer<1.0.0,>=0.3.0->spacy) (8.1.7)\n",
            "Requirement already satisfied: shellingham>=1.3.0 in /usr/local/lib/python3.10/dist-packages (from typer<1.0.0,>=0.3.0->spacy) (1.5.4)\n",
            "Requirement already satisfied: rich>=10.11.0 in /usr/local/lib/python3.10/dist-packages (from typer<1.0.0,>=0.3.0->spacy) (13.9.4)\n",
            "Requirement already satisfied: cloudpathlib<1.0.0,>=0.7.0 in /usr/local/lib/python3.10/dist-packages (from weasel<0.5.0,>=0.1.0->spacy) (0.20.0)\n",
            "Requirement already satisfied: smart-open<8.0.0,>=5.2.1 in /usr/local/lib/python3.10/dist-packages (from weasel<0.5.0,>=0.1.0->spacy) (7.1.0)\n",
            "Requirement already satisfied: MarkupSafe>=2.0 in /usr/local/lib/python3.10/dist-packages (from jinja2->spacy) (3.0.2)\n",
            "Requirement already satisfied: marisa-trie>=1.1.0 in /usr/local/lib/python3.10/dist-packages (from language-data>=1.2->langcodes<4.0.0,>=3.2.0->spacy) (1.2.1)\n",
            "Requirement already satisfied: markdown-it-py>=2.2.0 in /usr/local/lib/python3.10/dist-packages (from rich>=10.11.0->typer<1.0.0,>=0.3.0->spacy) (3.0.0)\n",
            "Requirement already satisfied: pygments<3.0.0,>=2.13.0 in /usr/local/lib/python3.10/dist-packages (from rich>=10.11.0->typer<1.0.0,>=0.3.0->spacy) (2.18.0)\n",
            "Requirement already satisfied: wrapt in /usr/local/lib/python3.10/dist-packages (from smart-open<8.0.0,>=5.2.1->weasel<0.5.0,>=0.1.0->spacy) (1.17.0)\n",
            "Requirement already satisfied: mdurl~=0.1 in /usr/local/lib/python3.10/dist-packages (from markdown-it-py>=2.2.0->rich>=10.11.0->typer<1.0.0,>=0.3.0->spacy) (0.1.2)\n",
            "Collecting en-core-web-sm==3.7.1\n",
            "  Downloading https://github.com/explosion/spacy-models/releases/download/en_core_web_sm-3.7.1/en_core_web_sm-3.7.1-py3-none-any.whl (12.8 MB)\n",
            "\u001b[2K     \u001b[90m━━━━━━━━━━━━━━━━━━━━━━━━━━━━━━━━━━━━━━━━\u001b[0m \u001b[32m12.8/12.8 MB\u001b[0m \u001b[31m44.1 MB/s\u001b[0m eta \u001b[36m0:00:00\u001b[0m\n",
            "\u001b[?25hRequirement already satisfied: spacy<3.8.0,>=3.7.2 in /usr/local/lib/python3.10/dist-packages (from en-core-web-sm==3.7.1) (3.7.5)\n",
            "Requirement already satisfied: spacy-legacy<3.1.0,>=3.0.11 in /usr/local/lib/python3.10/dist-packages (from spacy<3.8.0,>=3.7.2->en-core-web-sm==3.7.1) (3.0.12)\n",
            "Requirement already satisfied: spacy-loggers<2.0.0,>=1.0.0 in /usr/local/lib/python3.10/dist-packages (from spacy<3.8.0,>=3.7.2->en-core-web-sm==3.7.1) (1.0.5)\n",
            "Requirement already satisfied: murmurhash<1.1.0,>=0.28.0 in /usr/local/lib/python3.10/dist-packages (from spacy<3.8.0,>=3.7.2->en-core-web-sm==3.7.1) (1.0.11)\n",
            "Requirement already satisfied: cymem<2.1.0,>=2.0.2 in /usr/local/lib/python3.10/dist-packages (from spacy<3.8.0,>=3.7.2->en-core-web-sm==3.7.1) (2.0.10)\n",
            "Requirement already satisfied: preshed<3.1.0,>=3.0.2 in /usr/local/lib/python3.10/dist-packages (from spacy<3.8.0,>=3.7.2->en-core-web-sm==3.7.1) (3.0.9)\n",
            "Requirement already satisfied: thinc<8.3.0,>=8.2.2 in /usr/local/lib/python3.10/dist-packages (from spacy<3.8.0,>=3.7.2->en-core-web-sm==3.7.1) (8.2.5)\n",
            "Requirement already satisfied: wasabi<1.2.0,>=0.9.1 in /usr/local/lib/python3.10/dist-packages (from spacy<3.8.0,>=3.7.2->en-core-web-sm==3.7.1) (1.1.3)\n",
            "Requirement already satisfied: srsly<3.0.0,>=2.4.3 in /usr/local/lib/python3.10/dist-packages (from spacy<3.8.0,>=3.7.2->en-core-web-sm==3.7.1) (2.5.0)\n",
            "Requirement already satisfied: catalogue<2.1.0,>=2.0.6 in /usr/local/lib/python3.10/dist-packages (from spacy<3.8.0,>=3.7.2->en-core-web-sm==3.7.1) (2.0.10)\n",
            "Requirement already satisfied: weasel<0.5.0,>=0.1.0 in /usr/local/lib/python3.10/dist-packages (from spacy<3.8.0,>=3.7.2->en-core-web-sm==3.7.1) (0.4.1)\n",
            "Requirement already satisfied: typer<1.0.0,>=0.3.0 in /usr/local/lib/python3.10/dist-packages (from spacy<3.8.0,>=3.7.2->en-core-web-sm==3.7.1) (0.15.1)\n",
            "Requirement already satisfied: tqdm<5.0.0,>=4.38.0 in /usr/local/lib/python3.10/dist-packages (from spacy<3.8.0,>=3.7.2->en-core-web-sm==3.7.1) (4.67.1)\n",
            "Requirement already satisfied: requests<3.0.0,>=2.13.0 in /usr/local/lib/python3.10/dist-packages (from spacy<3.8.0,>=3.7.2->en-core-web-sm==3.7.1) (2.32.3)\n",
            "Requirement already satisfied: pydantic!=1.8,!=1.8.1,<3.0.0,>=1.7.4 in /usr/local/lib/python3.10/dist-packages (from spacy<3.8.0,>=3.7.2->en-core-web-sm==3.7.1) (2.10.3)\n",
            "Requirement already satisfied: jinja2 in /usr/local/lib/python3.10/dist-packages (from spacy<3.8.0,>=3.7.2->en-core-web-sm==3.7.1) (3.1.4)\n",
            "Requirement already satisfied: setuptools in /usr/local/lib/python3.10/dist-packages (from spacy<3.8.0,>=3.7.2->en-core-web-sm==3.7.1) (75.1.0)\n",
            "Requirement already satisfied: packaging>=20.0 in /usr/local/lib/python3.10/dist-packages (from spacy<3.8.0,>=3.7.2->en-core-web-sm==3.7.1) (24.2)\n",
            "Requirement already satisfied: langcodes<4.0.0,>=3.2.0 in /usr/local/lib/python3.10/dist-packages (from spacy<3.8.0,>=3.7.2->en-core-web-sm==3.7.1) (3.5.0)\n",
            "Requirement already satisfied: numpy>=1.19.0 in /usr/local/lib/python3.10/dist-packages (from spacy<3.8.0,>=3.7.2->en-core-web-sm==3.7.1) (1.26.4)\n",
            "Requirement already satisfied: language-data>=1.2 in /usr/local/lib/python3.10/dist-packages (from langcodes<4.0.0,>=3.2.0->spacy<3.8.0,>=3.7.2->en-core-web-sm==3.7.1) (1.3.0)\n",
            "Requirement already satisfied: annotated-types>=0.6.0 in /usr/local/lib/python3.10/dist-packages (from pydantic!=1.8,!=1.8.1,<3.0.0,>=1.7.4->spacy<3.8.0,>=3.7.2->en-core-web-sm==3.7.1) (0.7.0)\n",
            "Requirement already satisfied: pydantic-core==2.27.1 in /usr/local/lib/python3.10/dist-packages (from pydantic!=1.8,!=1.8.1,<3.0.0,>=1.7.4->spacy<3.8.0,>=3.7.2->en-core-web-sm==3.7.1) (2.27.1)\n",
            "Requirement already satisfied: typing-extensions>=4.12.2 in /usr/local/lib/python3.10/dist-packages (from pydantic!=1.8,!=1.8.1,<3.0.0,>=1.7.4->spacy<3.8.0,>=3.7.2->en-core-web-sm==3.7.1) (4.12.2)\n",
            "Requirement already satisfied: charset-normalizer<4,>=2 in /usr/local/lib/python3.10/dist-packages (from requests<3.0.0,>=2.13.0->spacy<3.8.0,>=3.7.2->en-core-web-sm==3.7.1) (3.4.0)\n",
            "Requirement already satisfied: idna<4,>=2.5 in /usr/local/lib/python3.10/dist-packages (from requests<3.0.0,>=2.13.0->spacy<3.8.0,>=3.7.2->en-core-web-sm==3.7.1) (3.10)\n",
            "Requirement already satisfied: urllib3<3,>=1.21.1 in /usr/local/lib/python3.10/dist-packages (from requests<3.0.0,>=2.13.0->spacy<3.8.0,>=3.7.2->en-core-web-sm==3.7.1) (2.2.3)\n",
            "Requirement already satisfied: certifi>=2017.4.17 in /usr/local/lib/python3.10/dist-packages (from requests<3.0.0,>=2.13.0->spacy<3.8.0,>=3.7.2->en-core-web-sm==3.7.1) (2024.12.14)\n",
            "Requirement already satisfied: blis<0.8.0,>=0.7.8 in /usr/local/lib/python3.10/dist-packages (from thinc<8.3.0,>=8.2.2->spacy<3.8.0,>=3.7.2->en-core-web-sm==3.7.1) (0.7.11)\n",
            "Requirement already satisfied: confection<1.0.0,>=0.0.1 in /usr/local/lib/python3.10/dist-packages (from thinc<8.3.0,>=8.2.2->spacy<3.8.0,>=3.7.2->en-core-web-sm==3.7.1) (0.1.5)\n",
            "Requirement already satisfied: click>=8.0.0 in /usr/local/lib/python3.10/dist-packages (from typer<1.0.0,>=0.3.0->spacy<3.8.0,>=3.7.2->en-core-web-sm==3.7.1) (8.1.7)\n",
            "Requirement already satisfied: shellingham>=1.3.0 in /usr/local/lib/python3.10/dist-packages (from typer<1.0.0,>=0.3.0->spacy<3.8.0,>=3.7.2->en-core-web-sm==3.7.1) (1.5.4)\n",
            "Requirement already satisfied: rich>=10.11.0 in /usr/local/lib/python3.10/dist-packages (from typer<1.0.0,>=0.3.0->spacy<3.8.0,>=3.7.2->en-core-web-sm==3.7.1) (13.9.4)\n",
            "Requirement already satisfied: cloudpathlib<1.0.0,>=0.7.0 in /usr/local/lib/python3.10/dist-packages (from weasel<0.5.0,>=0.1.0->spacy<3.8.0,>=3.7.2->en-core-web-sm==3.7.1) (0.20.0)\n",
            "Requirement already satisfied: smart-open<8.0.0,>=5.2.1 in /usr/local/lib/python3.10/dist-packages (from weasel<0.5.0,>=0.1.0->spacy<3.8.0,>=3.7.2->en-core-web-sm==3.7.1) (7.1.0)\n",
            "Requirement already satisfied: MarkupSafe>=2.0 in /usr/local/lib/python3.10/dist-packages (from jinja2->spacy<3.8.0,>=3.7.2->en-core-web-sm==3.7.1) (3.0.2)\n",
            "Requirement already satisfied: marisa-trie>=1.1.0 in /usr/local/lib/python3.10/dist-packages (from language-data>=1.2->langcodes<4.0.0,>=3.2.0->spacy<3.8.0,>=3.7.2->en-core-web-sm==3.7.1) (1.2.1)\n",
            "Requirement already satisfied: markdown-it-py>=2.2.0 in /usr/local/lib/python3.10/dist-packages (from rich>=10.11.0->typer<1.0.0,>=0.3.0->spacy<3.8.0,>=3.7.2->en-core-web-sm==3.7.1) (3.0.0)\n",
            "Requirement already satisfied: pygments<3.0.0,>=2.13.0 in /usr/local/lib/python3.10/dist-packages (from rich>=10.11.0->typer<1.0.0,>=0.3.0->spacy<3.8.0,>=3.7.2->en-core-web-sm==3.7.1) (2.18.0)\n",
            "Requirement already satisfied: wrapt in /usr/local/lib/python3.10/dist-packages (from smart-open<8.0.0,>=5.2.1->weasel<0.5.0,>=0.1.0->spacy<3.8.0,>=3.7.2->en-core-web-sm==3.7.1) (1.17.0)\n",
            "Requirement already satisfied: mdurl~=0.1 in /usr/local/lib/python3.10/dist-packages (from markdown-it-py>=2.2.0->rich>=10.11.0->typer<1.0.0,>=0.3.0->spacy<3.8.0,>=3.7.2->en-core-web-sm==3.7.1) (0.1.2)\n",
            "\u001b[38;5;2m✔ Download and installation successful\u001b[0m\n",
            "You can now load the package via spacy.load('en_core_web_sm')\n",
            "\u001b[38;5;3m⚠ Restart to reload dependencies\u001b[0m\n",
            "If you are in a Jupyter or Colab notebook, you may need to restart Python in\n",
            "order to load all the package's dependencies. You can do this by selecting the\n",
            "'Restart kernel' or 'Restart runtime' option.\n",
            "         ID                                             Tokens\n",
            "0  99244405  [           , Kpandipou,    , Koffi,         ,...\n",
            "1  17562754  [         , DIRECTOR, OF, DIGITAL, TRANSFORMAT...\n",
            "2  30311725  [         , SENIOR, PROJECT, MANAGER,       , ...\n",
            "3  19007667  [         , CHEF,       , Summary,     , Exper...\n",
            "4  11065180  [         , OPERATIONS, MANAGER,       , Summa...\n"
          ]
        },
        {
          "output_type": "stream",
          "name": "stderr",
          "text": [
            "<ipython-input-8-d103ae026eb7>:13: SettingWithCopyWarning: \n",
            "A value is trying to be set on a copy of a slice from a DataFrame.\n",
            "Try using .loc[row_indexer,col_indexer] = value instead\n",
            "\n",
            "See the caveats in the documentation: https://pandas.pydata.org/pandas-docs/stable/user_guide/indexing.html#returning-a-view-versus-a-copy\n",
            "  df_samples['Tokens'] = df_samples['Resume_str'].apply(lambda x: [token.text for token in nlp(x)])\n"
          ]
        }
      ]
    },
    {
      "cell_type": "code",
      "source": [
        "from sklearn.feature_extraction.text import TfidfVectorizer\n",
        "\n",
        "# Convert tokenized list back to a single string (for TF-IDF vectorization)\n",
        "df_samples['Tokens_str'] = df_samples['Tokens'].apply(lambda x: ' '.join(x))\n",
        "\n",
        "# Apply TF-IDF Vectorization\n",
        "vectorizer = TfidfVectorizer(max_features=5000)  # You can adjust the number of features\n",
        "X = vectorizer.fit_transform(df_samples['Tokens_str'])\n",
        "\n",
        "# Convert the output to a DataFrame for better readability\n",
        "X_df = pd.DataFrame(X.toarray(), columns=vectorizer.get_feature_names_out())\n",
        "\n",
        "print(X_df.head())\n"
      ],
      "metadata": {
        "colab": {
          "base_uri": "https://localhost:8080/"
        },
        "id": "CmfPxD2kz8Ob",
        "outputId": "998e0109-ed4b-4410-b1c0-4bdaee2539fd"
      },
      "execution_count": 9,
      "outputs": [
        {
          "output_type": "stream",
          "name": "stdout",
          "text": [
            "   000        01       02   03   04        05        06   07       08  \\\n",
            "0  0.0  0.000000  0.00000  0.0  0.0  0.000000  0.000000  0.0  0.00000   \n",
            "1  0.0  0.000000  0.00000  0.0  0.0  0.000000  0.000000  0.0  0.00000   \n",
            "2  0.0  0.000000  0.00000  0.0  0.0  0.000000  0.000000  0.0  0.00000   \n",
            "3  0.0  0.043076  0.00000  0.0  0.0  0.099966  0.092481  0.0  0.00000   \n",
            "4  0.0  0.000000  0.08529  0.0  0.0  0.000000  0.000000  0.0  0.02843   \n",
            "\n",
            "         09  ...     years      york  you  young  your  youth  zbrush  zero  \\\n",
            "0  0.000000  ...  0.000000  0.000000  0.0    0.0   0.0    0.0     0.0   0.0   \n",
            "1  0.000000  ...  0.010878  0.018553  0.0    0.0   0.0    0.0     0.0   0.0   \n",
            "2  0.000000  ...  0.017790  0.000000  0.0    0.0   0.0    0.0     0.0   0.0   \n",
            "3  0.000000  ...  0.000000  0.000000  0.0    0.0   0.0    0.0     0.0   0.0   \n",
            "4  0.042033  ...  0.000000  0.000000  0.0    0.0   0.0    0.0     0.0   0.0   \n",
            "\n",
            "   zoning  zoos  \n",
            "0     0.0   0.0  \n",
            "1     0.0   0.0  \n",
            "2     0.0   0.0  \n",
            "3     0.0   0.0  \n",
            "4     0.0   0.0  \n",
            "\n",
            "[5 rows x 3169 columns]\n"
          ]
        },
        {
          "output_type": "stream",
          "name": "stderr",
          "text": [
            "<ipython-input-9-8c7b06f0b65a>:4: SettingWithCopyWarning: \n",
            "A value is trying to be set on a copy of a slice from a DataFrame.\n",
            "Try using .loc[row_indexer,col_indexer] = value instead\n",
            "\n",
            "See the caveats in the documentation: https://pandas.pydata.org/pandas-docs/stable/user_guide/indexing.html#returning-a-view-versus-a-copy\n",
            "  df_samples['Tokens_str'] = df_samples['Tokens'].apply(lambda x: ' '.join(x))\n"
          ]
        }
      ]
    },
    {
      "cell_type": "code",
      "source": [
        "!pip install sklearn-crfsuite\n"
      ],
      "metadata": {
        "colab": {
          "base_uri": "https://localhost:8080/"
        },
        "id": "PupX0YxE2cIh",
        "outputId": "d01a72d8-38fa-4feb-bcdd-75774b8bb7f6"
      },
      "execution_count": 11,
      "outputs": [
        {
          "output_type": "stream",
          "name": "stdout",
          "text": [
            "Collecting sklearn-crfsuite\n",
            "  Downloading sklearn_crfsuite-0.5.0-py2.py3-none-any.whl.metadata (4.9 kB)\n",
            "Collecting python-crfsuite>=0.9.7 (from sklearn-crfsuite)\n",
            "  Downloading python_crfsuite-0.9.11-cp310-cp310-manylinux_2_17_x86_64.manylinux2014_x86_64.whl.metadata (4.3 kB)\n",
            "Requirement already satisfied: scikit-learn>=0.24.0 in /usr/local/lib/python3.10/dist-packages (from sklearn-crfsuite) (1.6.0)\n",
            "Requirement already satisfied: tabulate>=0.4.2 in /usr/local/lib/python3.10/dist-packages (from sklearn-crfsuite) (0.9.0)\n",
            "Requirement already satisfied: tqdm>=2.0 in /usr/local/lib/python3.10/dist-packages (from sklearn-crfsuite) (4.67.1)\n",
            "Requirement already satisfied: numpy>=1.19.5 in /usr/local/lib/python3.10/dist-packages (from scikit-learn>=0.24.0->sklearn-crfsuite) (1.26.4)\n",
            "Requirement already satisfied: scipy>=1.6.0 in /usr/local/lib/python3.10/dist-packages (from scikit-learn>=0.24.0->sklearn-crfsuite) (1.13.1)\n",
            "Requirement already satisfied: joblib>=1.2.0 in /usr/local/lib/python3.10/dist-packages (from scikit-learn>=0.24.0->sklearn-crfsuite) (1.4.2)\n",
            "Requirement already satisfied: threadpoolctl>=3.1.0 in /usr/local/lib/python3.10/dist-packages (from scikit-learn>=0.24.0->sklearn-crfsuite) (3.5.0)\n",
            "Downloading sklearn_crfsuite-0.5.0-py2.py3-none-any.whl (10 kB)\n",
            "Downloading python_crfsuite-0.9.11-cp310-cp310-manylinux_2_17_x86_64.manylinux2014_x86_64.whl (1.2 MB)\n",
            "\u001b[2K   \u001b[90m━━━━━━━━━━━━━━━━━━━━━━━━━━━━━━━━━━━━━━━━\u001b[0m \u001b[32m1.2/1.2 MB\u001b[0m \u001b[31m13.6 MB/s\u001b[0m eta \u001b[36m0:00:00\u001b[0m\n",
            "\u001b[?25hInstalling collected packages: python-crfsuite, sklearn-crfsuite\n",
            "Successfully installed python-crfsuite-0.9.11 sklearn-crfsuite-0.5.0\n"
          ]
        }
      ]
    },
    {
      "cell_type": "code",
      "source": [
        "# Check a few samples from X (features) and y (labels) to make sure they are aligned\n",
        "for i in range(5):  # Checking first 5 samples\n",
        "    print(f\"Resume {i+1}:\")\n",
        "    print(f\"Features (X): {X_sequences[i]}\")  # Example: List of tokens for the resume\n",
        "    print(f\"Label (y): {y_labels[i]}\")  # Example: Category label of the resume\n",
        "    print(\"=\" * 50)\n"
      ],
      "metadata": {
        "colab": {
          "base_uri": "https://localhost:8080/"
        },
        "id": "Ct5dFclr3-dy",
        "outputId": "790d98fe-6e3c-430f-aee5-3ff72564da8a"
      },
      "execution_count": 16,
      "outputs": [
        {
          "output_type": "stream",
          "name": "stdout",
          "text": [
            "Resume 1:\n",
            "Features (X): ['           ', 'Kpandipou', '   ', 'Koffi', '        ', 'Summary', '     ', 'Compassionate', 'teaching', 'professional', 'delivering', 'exemplary', 'support', 'and', 'assistance', 'to', 'teachers', 'and', 'students', '.', 'Display', 'exceptional', 'Communication', 'and', 'problem', 'solving', 'skills', '.', ' ', 'Experience', 'in', 'office', 'administration', 'and', 'public', 'speaking', '.', 'Attentive', 'and', 'adaptable', ',', 'skilled', 'in', 'management', 'of', 'classroom', 'operations', '.', 'Effective', 'in', 'leveraging', 'student', 'feedback', 'to', 'create', 'dynamic', 'lesson', 'plans', 'that', 'address', 'individual', 'strengths', 'and', 'weaknesses', '.', ' ', 'Dedicated', 'and', 'responsive', 'team', 'leader', 'with', 'proven', 'skills', 'in', 'classroom', 'management', ',', 'behavior', 'modification', 'and', 'individualized', 'support', '.', ' ', 'Personable', 'with', 'experience', 'using', 'relationship', '-', 'building', 'to', 'cultivate', 'positive', 'client', ',', 'staff', 'and', 'management', 'connections', '.', 'Highly', '-', 'developed', 'communicator', 'with', 'outstanding', 'skills', 'in', 'complex', 'problem', '-', 'solving', 'and', 'conflict', 'resolution', '.', ' ', 'High', '-', 'performing', 'Administrative', 'Assistant', 'offering', 'experience', 'working', 'with', 'diverse', 'client', 'base', 'and', 'delivering', 'exceptional', 'results', '.', 'Polished', 'in', 'managing', 'client', 'relations', ',', 'and', 'managing', 'vendor', 'relationships', '.', ' ', 'Results', '-', 'driven', 'assistant', 'with', 'track', 'record', 'of', 'excelling', 'in', 'fast', '-', 'paced', 'office', 'environments', '.', ' ', 'Career', '-', 'minded', 'with', 'talents', 'in', 'preparing', 'reports', ',', 'taking', 'messages', 'and', 'sorting', 'and', 'routing', 'mail', '.', 'Comfortable', 'working', 'in', 'fast', '-', 'paced', ',', 'demanding', 'office', 'environment', '.', ' ', 'Energetic', 'and', 'reputable', 'individual', 'possessing', 'strong', 'work', 'ethic', ',', 'professional', 'demeanor', 'and', 'superb', 'initiative', '.', 'Exceptional', 'customer', 'service', 'and', 'decision', '-', 'making', 'skills', '.', ' ', 'Service', '-', 'oriented', 'individual', 'with', 'expertise', 'in', 'preparing', 'and', 'modifying', 'documents', ',', 'coordinating', 'meetings', 'and', 'trips', 'and', 'preparing', 'responses', 'on', 'behalf', 'of', 'company', '.', 'Committed', 'to', 'establishing', 'stellar', 'rapport', 'with', 'clients', 'of', 'diverse', 'backgrounds', '.', ' ', 'Meticulous', 'and', 'systematic', 'Administrative', 'Assistant', 'skilled', 'in', 'organizing', ',', 'planning', 'and', 'managing', 'daily', 'clerical', 'needs', '.', 'Bringing', 'solid', 'expertise', 'in', 'coordinating', 'documents', ',', 'reports', 'and', 'records', ',', 'handling', 'correspondence', 'and', 'managing', 'deliveries', '.', ' ', 'Skilled', 'in', 'oral', 'and', 'written', 'communication', ',', 'team', 'leadership', 'and', 'relationship', '-', 'building', '.', ' ', 'Comfortable', 'working', 'alone', 'or', 'with', 'teams', 'to', 'accomplish', 'on', '-', 'time', 'and', 'accurate', 'clerical', 'tasks', '.', 'Punctual', 'Administrative', 'Assistant', 'known', 'for', 'having', 'terrific', 'work', 'ethic', 'and', 'dynamic', 'communication', 'skills', '.', ' ', 'Adept', 'at', 'preparing', 'correspondence', ',', 'memoranda', 'and', 'reports', 'in', 'both', 'draft', 'and', 'final', 'form', '.', '       ', 'Skills', '         ', 'Superb', 'communication', 'both', 'verbal', 'and', 'written', '.', ' ', 'Reliability', 'and', 'self', 'sufficiency', '.', ' ', 'Strong', 'work', 'ethic', '.', ' ', 'Organizational', 'and', 'problem', 'solving', 'skills', '.', ' ', 'Team', 'player', 'and', 'multi', 'tasker', '.', '     ', 'Career', 'minded', ',', 'result', 'driven', ',', 'and', 'goal', 'oriented', '.', ' ', 'Adaptable', ',', 'positive', ',', 'eager', 'to', 'contribute', 'in', 'any', 'capacity', '.', ' ', 'Microsoft', 'Office', ' ', 'Fluent', 'in', 'French', 'and', 'English', '           ', 'Experience', '     ', 'Assistant', 'Teacher', '    ', 'City', ' ', ',', '  ', 'State', '     ', 'Company', 'Name', ' ', '/', '  ', 'Jan', '2010', '  ', 'to', '  ', 'Jun', '2011', '      ', 'Implemented', 'lesson', 'plans', 'for', 'class', 'of', '30', 'students', '.', ' ', 'Prepared', ',', 'duplicated', 'and', 'collected', 'teaching', 'materials', 'to', 'help', 'students', 'better', 'understand', 'learning', 'concepts', '.', ' ', 'Helped', 'students', 'take', 'advantage', 'of', 'other', 'available', 'subject', 'matter', 'and', 'study', 'resources', '.', ' ', 'Classroom', 'restocking', ',', 'support', 'and', 'management', 'of', 'operations', '.', ' ', 'Arranged', 'and', 'led', 'activities', 'for', 'students', ',', 'including', 'small', 'group', 'and', 'individualized', 'instructions', '.', ' ', 'Assisted', 'teachers', 'with', 'lesson', 'preparation', ',', 'curriculum', 'implementation', ',', 'and', 'testing', '.', '         ', 'Assistant', 'Manager', 'Intern', '    ', 'City', ' ', ',', '  ', 'State', '     ', 'Company', 'Name', ' ', '/', '  ', 'May', '2006', '  ', 'to', '  ', 'Sep', '2006', '      ', 'Spearheaded', 'training', 'initiatives', 'to', 'improve', 'employee', 'performance', 'and', 'bottom', '-', 'line', 'business', 'results', '.', ' ', 'Generated', 'reports', 'to', 'assess', 'performance', 'and', 'make', 'adjustments', '.', ' ', 'Increased', 'customer', 'base', 'and', 'market', 'share', 'by', 'promoting', 'product', 'through', 'diverse', 'channels', '.', ' ', 'Optimized', 'productivity', ',', 'streamlined', 'program', 'efficiency', ',', 'and', 'boosted', 'profitability', '.', ' ', 'Supervised', 'and', 'trained', 'customer', 'service', 'team', 'members', 'to', 'provide', 'exceptional', 'service', ',', 'driving', 'retention', 'and', 'satisfaction', '.', ' ', 'Remained', 'calm', 'and', 'professional', 'in', 'stressful', 'circumstances', 'and', 'when', 'dealing', 'with', 'unhappy', 'customers', ',', 'effectively', 'diffusing', 'situations', '.', ' ', 'Addressed', 'internal', 'and', 'customer', '-', 'related', 'issues', 'each', 'day', 'and', 'affected', 'strategic', 'resolutions', '.', '         ', 'Junior', 'Editor', '    ', 'City', ' ', ',', '  ', 'State', '     ', 'Company', 'Name', ' ', '/', '  ', 'Sep', '2004', '  ', 'to', '  ', 'Sep', '2006', '      ', 'Determined', 'appropriate', 'page', 'budgets', 'and', 'layouts', 'to', 'guide', 'word', 'count', 'parameters', ',', 'optimize', 'use', 'of', 'images', 'and', 'graphics', 'as', 'well', 'as', 'maximize', 'impact', 'within', 'allotted', 'space', '.', ' ', 'Evaluated', 'reporter', 'stories', ',', 'shaped', 'content', 'and', 'helped', 'improve', 'overall', 'work', 'quality', 'through', 'careful', 'review', ',', 'detailed', 'editing', 'and', 'constructive', 'feedback', '.', ' ', 'Developed', 'and', 'deepened', 'positive', 'relationships', 'with', 'writing', ',', 'design', 'and', 'production', 'team', 'members', 'to', 'improve', 'communication', 'and', 'collaboration', '.', ' ', 'Handed', 'out', 'story', 'assignments', ',', 'directed', 'content', 'meetings', 'and', 'evaluated', 'submitted', 'pieces', 'to', 'manage', 'overall', 'tone', 'and', 'execution', 'of', 'work', '.', ' ', 'Decided', 'readiness', 'of', 'articles', 'for', 'publication', 'and', 'approved', 'final', 'versions', '.', ' ', 'Edited', ',', 'rewrote', 'and', 'prepared', 'numerous', 'pieces', 'per', 'week', 'by', 'adjusting', 'reading', 'level', 'to', 'make', 'understanding', 'articles', 'easier', 'and', 'more', 'interesting', '.', ' ', 'Oversaw', 'layout', 'design', 'and', 'worked', 'with', 'production', 'team', 'members', 'to', 'complete', 'fresh', 'monthly', 'publications', '         ', 'Education', 'and', 'Training', '     ', 'MBA', ' ', ':', '  ', 'Marketing', '   ', 'IGlobal', 'University', '    ', 'Jun', '2015', '    ', 'City', ' ', ',', '  ', 'State', '       ', 'Major', 'in', 'Marketing', ' ', 'Completed', 'coursework', 'in', '         ', 'BBA', ' ', ':', '  ', 'Business', 'Administration', '   ', 'Golden', 'Gate', 'University', '    ', 'Jun', '2011', '    ', 'City', ' ', ',', '  ', 'State', '       ', 'International', 'Student', 'Scholarship', 'Recipient', ' ', 'Minor', 'in', 'International', 'Business', '         ', 'Associate', 'of', 'Arts', '     ', 'Suffolk', 'University', '    ', 'Jun', '2007', '    ', 'City', '        ', 'Associate', 'in', 'International', 'Business', 'and', 'Business', 'Administration', '       ']\n",
            "Label (y): TEACHER\n",
            "==================================================\n",
            "Resume 2:\n",
            "Features (X): ['         ', 'DIRECTOR', 'OF', 'DIGITAL', 'TRANSFORMATION', '      ', 'Executive', 'Profile', '    ', 'Digital', 'and', 'print', 'media', 'professional', ' ', 'and', 'consultant', 'with', 'a', 'strong', 'vision', 'to', 'develop', 'new', 'projects', 'and', 'specialist', 'in', 'business', 'development', '.', 'Strong', 'management', 'skills', 'and', 'leading', 'teams', '.', 'Result', 'oriented', '.', 'Passionate', 'and', 'experienced', 'in', 'product', 'and', 'audience', 'development', ',', 'analytic', 'tools', ',', 'emerging', 'technologies', 'and', 'their', 'applications', 'in', 'the', 'media', 'industry', '.', 'Social', 'media', 'and', 'content', 'strategist', '.', 'Bilingual', '.', '      ', 'Skill', 'Highlights', '         ', 'Journalism', ' ', 'Editorial', ' ', 'Leadership', ' ', 'New', 'Media', '   ', 'Digital', 'Media', ' ', 'Business', 'Development', ' ', 'Audience', 'Development', ' ', 'Strategic', 'Planning', ' ', 'Product', 'Management', ' ', 'Social', 'Media', ' ', 'Online', 'Journalism', ' ', 'Mobile', '   ', 'Advertising', '   ', 'Marketing', ' ', 'Digital', 'Marketing', ' ', 'Media', 'Strategy', '     ', 'Editorial', ' ', 'Writing', ' ', 'Editing', ' ', 'Storytelling', ' ', 'Multimedia', 'Storytelling', ' ', 'Content', 'Strategy', ' ', 'Content', 'Management', ' ', 'SEO', ' ', 'Organizational', 'Skills', ' ', 'Consultant', ' ', 'Digital', 'Analytics', ' ', 'Staff', 'Development', ' ', 'Blogging', ' ', 'Media', 'Relations', '           ', 'Core', 'Accomplishments', '     ', 'Journalist', ',', 'columnist', ',', 'executive', 'editor', ',', 'media', 'business', 'executive', 'and', ' ', 'consultant', 'specialized', 'in', 'digital', 'and', 'new', 'media', 'with', 'almost', '30', 'years', 'of', 'experience', 'working', 'in', 'more', 'than', 'one', 'hundred', 'media', 'companies', 'in', 'Spain', ',', 'Argentina', ',', 'Brazil', ',', 'Chile', ',', 'Mexico', 'and', 'other', 'Latin', 'American', 'and', 'European', 'countries', '.', ' ', 'Focused', 'in', 'business', 'development', 'and', 'revenue', 'strategies', '.', ' ', 'Specialized', 'in', 'new', 'media', '(', 'digital', ',', 'social', ',', 'audiovisual', ')', ',', 'business', 'development', ',', 'newsroom', 'organization', 'and', 'media', 'management', '.', ' ', 'With', 'extensive', 'experience', 'in', 'the', 'transformation', 'of', 'legacy', 'media', '(', 'especially', 'newspapers', 'and', 'television', ')', 'in', 'digital', 'and', 'multimedia', 'brands', ',', 'and', 'in', 'the', 'launching', 'of', 'new', 'digital', 'media', '.', ' ', 'Winner', 'of', 'several', 'prizes', 'and', 'distinctions', ':', 'Society', 'for', 'News', 'Design', '(', 'SND', ')', 'for', 'works', 'in', 'print', 'and', 'web', 'and', '14', 'gold', 'José', 'Martí', 'Awards', 'of', 'the', 'National', 'Association', 'of', 'Hispanic', 'Publications', '(', 'NAHP', ')', ',', 'between', 'them', 'best', 'newspaper', '(', 'El', 'Diario', ',', 'NY', 'and', 'La', 'Opinion', ',', 'LA', ')', 'and', 'best', 'weekly', 'newspaper', '(', 'La', 'Raza', ',', 'Chicago', ')', '.', ' ', 'Chosen', 'as', 'one', 'of', 'the', 'most', 'influencial', 'Spanish', 'journalists', 'on', 'Internet', ',', 'according', 'to', 'El', 'Mundo', 'newspaper', '.', ' ', 'Journalism', 'professor', 'in', 'several', 'universities', ',', 'Master', 'in', 'Journalism', 'and', 'frequent', 'speaker', 'in', 'professional', 'media', 'events', ',', 'conferences', 'and', 'workshops', '(', 'WAN', '-', 'IFRA', ',', 'INMA', 'and', 'others', ')', '.', ' ', 'Co', '-', 'author', 'of', 'several', 'books', 'about', 'journalism', 'and', 'digital', 'media', '.', '       ', 'Professional', 'Experience', '    ', 'January', '1999', '  ', 'to', '  ', 'January', '2006', '    ', 'Company', 'Name', '         ', 'Director', 'of', 'Digital', 'Transformation', '       ', 'ImpreMedia', 'Vicepresident', 'of', 'Content', ',', 'in', 'charge', 'of', 'digital', 'and', 'print', 'operations', 'of', 'the', 'company', '.', ' ', 'ImpreMedia', 'is', 'the', 'leading', 'Hispanic', 'news', 'and', 'information', 'company', 'in', 'the', 'U.S.', ' ', 'in', 'online', 'and', 'print', '.', ' ', 'Twenty', '-', 'three', 'percent', '(', '23', '%', ')', 'of', 'U.S.', ' ', 'Hispanic', 'adults', 'use', 'an', 'impreMedia', 'network', 'product', 'in', 'a', 'given', 'month', ',', 'drawing', '9.5', 'million', 'unique', 'visitors', 'per', 'month', '.', ' ', 'ImpreMedia', 'publishes', 'products', 'in', '15', 'U.S.', ' ', 'Hispanic', 'markets', 'that', 'reach', '3.6', 'million', 'print', 'product', 'readers', 'monthly', '.', ' ', 'Its', 'leading', 'publications', 'include', 'La', 'Opinión', 'in', 'Los', 'Angeles', 'and', 'El', 'Diario', 'La', 'Prensa', 'in', 'New', 'York', '.', ' ', 'Its', 'online', 'properties', 'include', ':', ' ', 'www.impremedia.com', ';', 'www.laopinion.com', ';', 'www.eldiariony.com', ';', 'www.laraza.com', ';', 'www.laprensa.com', ';', 'www.laopiniondelabahia.com', ';', 'www.rumbotx.com', ';', 'quieromasfutbol.com', ';', 'and', 'paratimujer.us', '.', ' ', 'Currently', 'managing', 'as', 'Senior', 'Consultant', 'the', 'digital', 'transition', 'of', 'La', 'Nación', '(', 'Buenos', 'Aires', ',', 'Argentina', ')', ',', 'one', 'of', 'the', 'main', 'news', 'media', 'in', 'Argentina', 'and', 'the', 'Impremedia', \"'s\", 'shareholder', 'to', 'a', 'new', 'business', 'and', 'organization', 'based', 'more', 'on', 'digital', 'and', 'video', 'than', 'in', 'print', '.', ' ', 'CEO', 'and', 'owner', 'of', 'Mediathink', 'Consultores', '(', '2007', '-', '2013', ')', ',', 'an', 'international', 'media', 'consultancy', 'and', 'research', 'company', 'specialized', 'in', 'news', 'media', ':', 'new', 'digital', 'and', 'business', 'projects', 'and', 'how', 'to', 'change', 'the', 'legacy', 'companies', 'to', 'a', 'digital', 'environment', '.', ' ', 'With', 'experience', 'in', 'projects', 'and', 'works', 'in', 'more', 'than', 'one', 'hundred', 'media', 'organizations', 'and', 'twenty', 'countries', 'in', 'Europe', 'and', 'Latin', 'America', '.', ' ', 'Main', 'clients', ':', 'Vocento', ',', 'Agencia', 'Efe', ',', 'Grupo', 'Planeta', ',', 'Ministerio', 'de', 'Sanidad', 'e', 'Igualdad', ',', 'La', 'Voz', 'de', 'Galicia', ',', 'The', 'Cocktail', 'and', 'others', '(', 'Spain', ')', ';', 'Grupo', 'Clarín', ',', 'La', 'Nación', ',', 'La', 'Voz', 'del', 'Interior', '(', 'Argentina', ')', ';', 'El', 'Mercurio', '(', 'Chile', ')', ';', 'El', 'Comercio', '(', 'Perú', ')', ';', 'O', 'Globo', ',', 'Correio', 'Braziliense', '(', 'Brazil', ')', ';', 'GFR', 'Media', '(', 'Puerto', 'Rico', ')', ';', 'La', 'Prensa', 'Gráfica', '(', 'El', 'Salvador', ')', 'and', 'others', '.', ' ', 'Associated', 'Director', 'and', 'board', 'trustee', 'of', 'Fundación', 'Instituto', 'para', 'la', 'Innovación', 'Periodística', '2IP', ',', 'a', 'professional', 'and', 'academic', 'organization', 'of', 'innovation', 'and', 'entrepreneurship', 'in', 'journalism', 'and', 'media', '.', ' ', 'Chairman', 'of', 'the', 'Experts', 'Committee', 'in', 'New', 'Business', 'Models', 'for', 'Journalism', '.', ' ', 'Founder', 'and', 'Executive', 'Editor', 'of', 'ADN.es', '(', '2007', ')', ',', 'one', 'of', 'the', 'first', 'innovative', 'news', 'social', 'media', 'websites', 'in', 'Spain', '(', 'Madrid', ',', 'Grupo', 'Planeta', ')', '.', ' ', 'Newsroom', 'Reorganization', ',', 'Contents', 'and', 'Digital', 'Media', 'of', '12', 'newspapers', ',', 'local', 'television', 'and', 'radio', 'for', 'the', 'main', 'regional', 'and', 'local', 'media', 'group', 'in', 'Spain', '.', '        ', 'January', '1996', '  ', 'to', '  ', 'January', '1999', '    ', 'Company', 'Name', '         ', 'CEO', 'and', 'General', 'Manager', '       ', 'consultants', 'in', 'news', 'media', ',', 'content', ',', 'product', ',', 'business', 'development', ',', 'newsroom', 'organization', 'and', 'design', '.', ' ', 'Managing', 'Editor', 'of', 'Diario', '16', '(', 'Madrid', ',', '1995', '-', '97', ')', ',', 'a', 'national', 'newspaper', 'and', 'digital', 'news', 'media', '.', '        ', 'January', '1992', '  ', 'to', '  ', 'January', '1995', '    ', 'Managing', 'Editor', 'and', 'Art', 'Director', 'of', 'El', 'Periódico', 'de', 'Catalunya', 'Executive', 'Editor', '       ', 'of', 'the', 'El', 'Periódico', 'de', 'Catalunya´s', 'special', 'edition', 'during', 'Olympic', 'Games', 'in', 'Barcelona', ',', '1992', '.', ' ', 'Founder', ',', 'Art', 'Director', 'and', 'Managing', 'Editor', 'in', 'El', 'Sol', ',', 'a', 'Spanish', 'national', 'newspaper', '(', 'Madrid', ',', '1990', '-', '92', ')', '.', ' ', 'Reporter', 'in', 'the', 'business', 'newspaper', 'Cinco', 'Días', '(', 'Madrid', ',', '1989', ')', 'and', 'the', 'local', 'newspaper', 'El', 'Ideal', 'Gallego', '(', 'A', 'Coruña', ',', 'Spain', ')', '.', ' ', 'Career', 'in', 'Tech', 'Companies', 'Business', 'and', 'Technology', 'consultant', 'in', 'Classora', 'http://en.classora.com/', 'an', 'innovative', 'company', 'working', 'in', 'semantic', 'intelligence', ',', 'web', '3.0', 'and', 'artificial', 'intelligence', 'applied', 'to', 'digital', 'media', '.', ' ', 'Founding', 'partner', 'and', 'shareholder', 'of', 'the', 'digital', 'marketing', 'company', 'Incuentra.com', ',', 'now', 'nlocal.es', '(', 'Spain', ')', 'and', 'nlocal.mx', '(', 'Mexico', ')', 'after', 'the', 'sale', 'of', 'company', 'to', 'Plenum', 'Media', 'Group', '.', '         ', 'Education', '    ', '1989', '    ', 'Newspaper', 'El', 'País', '-', 'Universidad', 'Autónoma', 'de', 'Madrid', '      ', 'Spain', '    ', 'Master', 'in', 'Journalism', '(', 'MA', ')', '            ', '1987', '    ', 'Navarra', 'University', '      ', 'Spain', '    ', 'Bachelor', \"'s\", 'Degree', '(', 'BA', ')', ' ', ':', '  ', 'Journalism', '   ', 'Journalism', '       ', 'Skills', '   ', 'academic', ',', 'Art', 'Director', ',', 'artificial', 'intelligence', ',', 'business', 'development', ',', 'com', ',', 'Consultant', ',', 'content', ',', 'clients', ',', 'Editor', ',', 'drawing', '9.5', ',', 'http', ',', 'innovation', ',', 'Journalism', ',', 'Latin', ',', 'Director', ',', 'Managing', ',', 'marketing', ',', '97', ',', 'works', ',', 'network', ',', 'newspaper', ',', 'newspapers', ',', 'publications', ',', 'radio', ',', 'Reporter', ',', 'research', ',', 'Spanish', ',', 'television', ',', 'unique', ',', 'video', ',', 'websites', '  ']\n",
            "Label (y): DIGITAL-MEDIA\n",
            "==================================================\n",
            "Resume 3:\n",
            "Features (X): ['         ', 'SENIOR', 'PROJECT', 'MANAGER', '      ', 'Professional', 'Summary', '    ', 'Ambitious', 'Construction', 'Executive', 'experienced', 'in', 'commercial', 'construction', 'with', 'over', '30', '+', 'years', 'of', 'experience', '.', 'Proactive', ',', 'resourceful', 'and', 'hardworking', 'with', 'strong', 'follow', '-', 'through', '.', 'Excellent', 'problem', '-', 'solving', 'and', 'time', 'management', 'abilities', '.', '      ', 'Skills', '         ', 'Advanced', 'problem', 'solving', ' ', 'Project', 'planning', 'and', 'development', ' ', 'Finance', 'and', 'accounting', ' ', 'Employee', 'relations', '     ', 'Team', 'building', '\\xa0  ', 'Negotiations', 'expert', ' ', 'Strategic', 'planning', ' ', 'Contract', 'review', 'and', 'recommendations', '           ', 'Work', 'History', '     ', 'Company', 'Name', '   ', 'Senior', 'Project', 'Manager', '  ', '|', '  ', 'City', ' ', ',', '  ', 'State', '  ', '|', '  ', 'August', '2017', '  ', '-', '  ', 'Current', '    ', 'Opening', 'of', 'Denver', 'Operations', 'for', 'McCauley', 'Constructors', 'Establishing', 'protocols', ',', 'procedures', 'and', 'reporting', 'mechanisms', 'for', 'a', 'satellite', 'location', 'Procurement', 'and', 'management', 'of', 'teams', 'to', 'establish', 'a', 'stand', '-', 'alone', 'profit', 'center', 'Act', 'as', 'the', 'liaison', 'with', 'main', 'company', 'office', 'representatives', 'to', 'provide', 'information', 'on', 'activities', 'of', 'the', 'satellite', 'location', 'Actively', 'project', 'manage', '3', 'to', '5', 'projects', 'in', 'the', '$', '5', 'to\\xad', '$', '10', 'million', 'range', '.', ' ', 'Monitored', 'the', 'market', 'to', 'capitalize', 'on', 'the', 'latest', 'trends', '.', ' ', 'Supervised', 'the', 'work', 'of', 'team', 'members', ',', 'offering', 'constructive', 'feedback', 'on', 'their', 'work', 'performance', '.', ' ', 'Monitored', 'timelines', 'and', 'flagged', 'potential', 'issues', 'to', 'be', 'addressed', '.', ' ', 'Collaborated', 'with', 'the', 'Pre', '-', 'Construction', 'department', 'to', 'ensure', 'accurate', 'and', 'complete', 'project', 'budgets', '.', '        ', 'Company', 'Name', '   ', 'President', '  ', '|', '  ', 'City', ' ', ',', '  ', 'State', '  ', '|', '  ', 'November', '2010', '  ', '-', '  ', 'August', '2017', '    ', 'Qualified', 'competitive', 'subcontractor', 'bids', 'prior', 'to', 'execution', 'of', 'contracts', '.', ' ', 'Facilitated', 'processing', 'of', 'RFI', \"'s\", ',', 'submittals', 'and', 'samples', 'among', 'the', 'general', 'contractor', ',', 'the', 'owner', 'and', 'the', 'owner', \"'s\", 'consultants', '.', ' ', 'Educated', 'general', 'contractor', 'personnel', 'on', 'the', 'quality', 'standards', 'throughout', 'the', 'construction', 'process', '.', ' ', 'Obtained', 'notices', 'of', 'completion', 'and', 'compliance', 'certifications', 'from', 'all', 'of', 'the', 'construction', 'administration', 'consultants', '.', ' ', 'Reviewed', 'and', 'investigated', 'Proposed', 'Change', 'Order', 'Requests', '(', 'PCOR', ')', '.', ' ', 'Stayed', 'consistent', 'with', 'project', 'schedules', 'and', 'plans', 'for', 'all', 'FFE', 'installations', '.', ' ', 'Submitted', 'all', 'project', 'closeout', 'documents', 'in', 'accordance', 'with', 'the', 'contract', '.', ' ', 'Assigned', 'projects', 'and', 'tasks', 'to', 'employees', 'based', 'on', 'their', 'competencies', 'and', 'specialties', '.', ' ', 'Accurately', 'provided', 'status', 'information', 'on', 'project', 'progress', 'to', 'the', 'project', 'management', '.', ' ', 'Led', 'and', 'managed', 'resolution', 'of', 'all', 'issues', 'during', 'project', 'construction', 'and', 'commissioning', 'phases', '.', ' ', 'Led', 'the', 'planning', ',', 'budgeting', 'and', 'direction', 'of', 'all', 'construction', 'projects', '.', ' ', 'Carefully', 'coordinated', 'plans', 'and', 'specs', 'using', 'marketing', 'programming', 'standards', '.', '        ', 'Company', 'Name', '   ', 'Senior', 'Project', 'Manager', '  ', '|', '  ', 'City', ' ', ',', '  ', 'State', '  ', '|', '  ', 'January', '2006', '  ', '-', '  ', 'November', '2010', '    ', 'Managed', 'teams', 'of', 'on', '-', 'site', 'subcontractors', 'on', 'multiple', 'sites', 'simultaneously', '.', ' ', 'Acted', 'as', 'the', 'liaison', 'with', 'company', 'safety', 'representatives', 'to', 'promote', 'awareness', 'and', 'understanding', 'of', 'safety', 'protocols', '.', ' ', 'Proficiently', 'used', 'the', 'Incident', 'and', 'Issues', 'Tracking', '(', 'IIT', ')', 'system', 'to', 'document', 'all', 'on', 'site', 'issues', '.', ' ', 'Directed', 'all', 'phases', 'of', 'commercial', 'construction', 'projects', ',', 'from', 'budgeting', '\\xa0', 'to', 'closeout', '.', ' ', 'Collaborated', 'with', 'the', 'Accounting', 'department', 'to', 'implement', 'electronic', 'accounts', 'payable', 'system', '.', '        ', 'Company', 'Name', '   ', 'President', '  ', '|', '  ', 'City', ' ', ',', '  ', 'State', '  ', '|', '  ', 'January', '2003', '  ', '-', '  ', 'December', '2005', '    ', 'Oversaw', 'business', '-', 'wide', 'changes', 'to', 'modernize', 'procedures', 'and', 'organization', '.', ' ', 'Developed', 'program', 'to', 'promote', 'new', 'managers', 'from', 'within', ',', 'leading', 'to', 'a', 'cohesive', 'leadership', 'structure', '.', ' ', 'Obtained', 'building', 'and', 'specialty', 'permits', 'from', 'local', 'jurisdictional', 'agencies', '.', ' ', 'Conducted', 'weekly', 'production', 'and', 'operations', 'contractor', 'meetings', ',', 'which', 'facilitated', 'stronger', 'communication', 'and', 'the', 'ability', 'to', 'resolve', 'critical', 'issues', '.', ' ', 'Performed', 'regular', 'job', 'site', 'observations', 'to', 'provide', 'direction', 'for', 'all', 'general', 'contractor', 'personnel', '.', ' ', 'Trained', 'and', 'promoted', 'continued', 'education', 'for', 'all', 'onsite', 'crew', 'members', '.', '\\xa0         ', 'Company', 'Name', '   ', 'Project', 'Manager', '  ', '|', '  ', 'City', ' ', ',', '  ', 'State', '  ', '|', '  ', 'April', '1999', '  ', '-', '  ', 'December', '2002', '    ', 'Kept', 'meticulous', 'records', 'of', 'all', 'costs', 'and', 'expenses', 'and', 'analyzed', 'that', 'data', 'against', 'the', 'budget', '.', ' ', 'Managed', 'between', '10', 'to', '20', 'projects', 'per', 'year', '.', ' ', 'Directed', 'changes', 'to', 'the', 'project', 'scope', 'and', 'cost', 'and', 'implemented', 'appropriate', 'change', 'management', 'processes', 'to', 'keep', 'the', 'project', 'on', 'track', '.', ' ', 'Provided', 'outstanding', 'service', 'to', 'clients', 'to', 'not', 'only', 'maintain', 'but', 'to', 'extend', 'the', 'relationship', 'for', 'future', 'business', 'opportunities', '.', ' ', 'Conducted', 'meetings', 'with', 'clients', 'to', 'determine', 'project', 'intent', ',', 'requirements', 'and', 'budgets', '.', '        ', 'Company', 'Name', '   ', 'Project', 'Manager', '  ', '|', '  ', 'City', ' ', ',', '  ', 'State', '  ', '|', '  ', 'April', '1997', '  ', '-', '  ', 'March', '1999', '    ', 'Conducted', 'meetings', 'with', 'clients', 'to', 'determine', 'project', 'intent', ',', 'requirements', 'and', 'budgets', '.', ' ', 'Maintained', 'project', 'schedules', 'by', 'managing', 'timelines', 'and', 'making', 'proactive', 'adjustments', '.', ' ', 'Directed', 'changes', 'to', 'the', 'project', 'scope', 'and', 'cost', 'and', 'implemented', 'appropriate', 'change', 'management', 'processes', 'to', 'keep', 'the', 'project', 'on', 'track', '.', ' ', 'Performed', 'regular', 'job', 'site', 'observations', 'to', 'provide', 'direction', 'for', 'all', 'general', 'contractor', 'personnel', '.', ' ', 'Conducted', 'all', 'critical', 'pre', '-', 'installation', 'conferences', 'with', 'subcontractors', ',', 'consultants', 'and', 'manufacturer', \"'s\", 'representatives', '.', '        ', 'Education', '     ', 'Masters', 'of', 'Real', 'Estate', '&', 'Construction', 'Management', '   ', 'Construction', 'Management', '   ', 'University', 'of', 'Denver', '   ', 'City', ' ', ',', '  ', 'State', '  ', '|', '  ', '1995', '  ', 'Construction', 'Management', '      ', 'BBA', '   ', 'Business', 'Management', '   ', 'East', 'Tennessee', 'State', 'University', '   ', 'City', ' ', ',', '  ', 'State', '  ', '|', '  ', '1991', '  ', 'Business', 'Management', '      ', 'Skills', '    ', 'Safety', 'Oversight', ',', 'Prime', 'Contract', 'Negotiations', ',', 'Budgeting', ',', 'Competitive', 'Contracts', 'Management', ',', '\\xa0', 'Marketing', ',', 'Microsoft', 'Office', ',', 'Microsoft', 'Project', ',', 'Pro', 'Core', 'Project', 'Management', ',', 'Personnel', 'Management', ',', 'Procurement', ',', 'Project', 'Management', ',', 'Systems', 'Protocols', 'and', '\\xa0', 'implementation', 'and', 'Quality', 'Control', '.', '      ', 'Certifications', '     ', 'LEED', 'AP', ' ', 'ICC', 'Class', 'A', 'License', '\\xa0  ', 'ASHE', '(', 'American', 'Society', 'of', 'Health', 'Engineers', ')', '    ']\n",
            "Label (y): CONSTRUCTION\n",
            "==================================================\n",
            "Resume 4:\n",
            "Features (X): ['         ', 'CHEF', '      ', 'Summary', '    ', 'Experienced', 'catering', 'chef', 'skilled', 'in', 'preparing', 'large', 'volumes', 'of', 'food', 'quickly', 'and', 'efficiently', '.', 'Knowledge', 'of', 'international', 'cuisine', '.', 'Seeking', 'a', 'position', 'at', 'a', 'restaurant', 'where', 'I', 'can', 'call', 'it', \"'\", 'home', \"'\", '      ', 'Highlights', '                     ', 'Experience', '    ', '05/2009', '  ', 'to', '  ', 'Current', '    ', 'Chef', '   ', 'Company', 'Name', '  ', '－', '  ', 'City', ' ', ',', '  ', 'State', '     ', 'Manage', 'daily', 'kitchen', 'operations', 'including', 'inventory', ',', 'purchasing', ',', 'and', 'scheduling', 'Ensure', 'proper', 'food', 'handling', 'methods', 'are', 'observed', 'Assist', 'kitchen', 'staff', 'in', 'producing', 'food', 'for', 'catering', 'Systematically', 'control', 'food', 'quality', 'and', 'costs', 'Develop', 'new', 'menu', 'items', 'to', 'enhance', 'catering', 'and', 'retail', 'food', 'service', 'revenue', 'and', 'productivity', 'goals', '.', '        ', '06/2000', '  ', 'to', '  ', '05/2009', '    ', 'Catering', 'Chef', '   ', 'Company', 'Name', '  ', '－', '  ', 'City', ' ', ',', '  ', 'State', '     ', 'Effectively', 'managed', 'and', 'produced', 'food', 'for', 'catered', 'events', 'Enforced', 'appropriate', 'work', '-', 'flow', 'and', 'quality', 'controls', 'for', 'food', 'quality', 'Conducted', 'daily', 'inventory', 'and', 'ordering', 'Assisted', 'catering', 'staff', 'in', 'setup', 'and', 'delivery', 'Managed', 'catering', 'schedule', 'and', 'logistics', '.', '        ', '01/1990', '  ', 'to', '  ', '06/2000', '    ', 'Line', 'Cook', '   ', 'Company', 'Name', '  ', '－', '  ', 'City', ' ', ',', '  ', 'State', '     ', 'Set', 'up', 'and', 'prep', 'work', 'for', 'all', 'food', 'items', '.', ' ', 'Prepared', 'various', 'daily', 'lunch', 'special', 'items', '.', ' ', 'Assisted', 'in', 'producing', 'food', 'for', 'catered', 'events', '.', ' ', 'Conducted', 'daily', 'food', 'inventory', 'and', 'ordering', '.', '           ', 'Languages', '         ', 'Skills', '   ', 'delivery', ',', 'Detail', 'oriented', ',', 'English', ',', 'inventory', ',', 'Inventory', 'Management', ',', 'logistics', ',', 'producing', ',', 'purchasing', ',', 'quality', ',', 'retail', ',', 'scheduling', ',', 'Spanish', ',', 'work', '-', 'flow', '  ']\n",
            "Label (y): CHEF\n",
            "==================================================\n",
            "Resume 5:\n",
            "Features (X): ['         ', 'OPERATIONS', 'MANAGER', '      ', 'Summary', '   ', 'Experienced', 'client', 'service', 'professional', 'accustomed', 'to', 'managing', 'teams', 'functioning', 'in', 'a', 'fast', '-', 'paced', 'environment', 'in', 'support', 'of', 'multiple', 'products', 'across', 'various', 'business', 'units', '.', 'Solid', 'background', 'in', 'building', 'strong', 'and', 'effective', 'teams', '     ', 'Highlights', '         ', 'KYC', ',', 'Anti', 'Money', 'Laundering', ',', 'and', 'legal', 'documentations', ' ', 'Excellent', 'organizational', 'and', 'time', 'management', 'skills', ' ', 'Strong', 'interpersonal', 'and', 'communication', 'skills', 'at', 'all', 'levels', 'Microsoft', 'Office', '(', 'Excel', ',', 'Word', ',', 'PowerPoint', ',', 'SharePoint', ',', 'and', 'Project', ')', ' ', 'Employee', 'relations', '(', 'hiring', ',', 'terminations', ',', 'performance', 'management', ',', 'development', ')', ' ', 'SEC', 'Licenses', 'Series', '6', 'and', '63', '(', 'Expired', '.', 'Willing', 'to', 'retake', '.', ')', ' ', 'Proficiency', 'in', 'Adobe', 'products', '(', 'Photoshop', ',', 'Lightroom', ',', 'Illustrator', ')', ' ', 'Spanish', 'fluency', ',', 'oral', 'and', 'written', '               ', 'Experience', '    ', '02/2010', '  ', 'to', '  ', '08/2014', '    ', 'Operations', 'Manager', '   ', 'Company', 'Name', '  ', '－', '  ', 'City', ' ', ',', '  ', 'State', '     ', 'Managed', 'a', 'team', 'of', 'four', 'client', 'service', 'officers', 'responsible', 'for', 'day', '-', 'to', '-', 'day', 'operations', 'and', 'onboarding', 'process', '.', ' ', 'Directed', 'and', 'supervised', 'the', 'daily', 'activities', 'of', 'the', 'teams', 'with', 'primary', 'focus', 'in', 'enhancing', 'the', 'client', \"'s\", 'experience', ',', 'mitigating', 'risk', ',', 'and', 'identifying', 'areas', 'of', 'improvement', '.', ' ', 'Performed', 'Quality', 'Assurance', 'reviews', 'and', 'approved', 'due', 'diligence', 'reviews', 'completed', 'by', 'the', 'staff', '.', ' ', 'Collaborated', 'and', 'managed', 'assigned', 'projects', 'with', 'cross', '-', 'functional', 'teams', 'and', 'departments', 'including', 'data', 'and', 'document', 'collection', 'and', 'review', ',', 'technology', ',', 'sales', 'and', 'other', 'client', 'services', 'groups', 'across', 'the', 'firm', '.', ' ', 'Coordinated', 'with', 'Front', 'Office', ',', 'Credit', ',', 'Compliance', ',', 'AML', 'compliance', 'and', 'global', 'client', 'onboarding', 'teams', 'to', 'understand', 'client', '/', 'deal', 'structure', 'and', 'agree', 'requirements', '/', 'responsibilities', '.', ' ', 'Participated', 'in', 'the', 'development', 'and', 'drove', 'implementation', 'of', 'department', 'policies', 'and/or', 'procedures', 'to', 'help', 'improve', 'service', 'and', 'overall', 'efficiency', '.', '        ', '09/2007', '  ', 'to', '  ', '02/2010', '    ', 'Client', 'Service', 'Manager', '     ', 'Within', 'three', 'months', ',', 'increased', 'efficiency', 'by', '20', '%', 'by', 'identifying', 'and', 'mitigating', 'outdated', 'manual', 'processes', 'and', 'leveraging', 'technology', '.', ' ', 'Increased', 'staff', 'performance', 'accuracy', 'levels', 'to', '99', '%', '.', ' ', 'Managed', 'a', 'team', 'of', 'eight', 'client', 'service', 'officers', 'responsible', 'for', 'servicing', 'our', 'base', 'of', 'Commercial', 'Real', 'Estate', 'clients', ',', 'Mortgage', 'Servicers', ',', 'and', 'Regulated', 'Cash', '.', ' ', 'Serviced', 'a', 'portfolio', 'of', '300', 'clients', 'with', 'deposits', 'in', 'excess', 'of', '80', 'billion', '.', ' ', 'Reviewed', 'complex', 'Cash', 'Collateral', 'agreements', 'and', 'client', 'provided', 'documentation', 'to', 'ensure', 'compliance', 'with', 'regulatory', 'and', 'contractual', 'requirements', '.', ' ', 'Served', 'as', 'the', 'escalation', 'point', 'for', 'and', 'coordinated', 'the', 'resolution', 'of', 'key', 'issues', 'and', 'complex', 'client', 'concerns', 'and', 'opportunities', '.', ' ', 'Analyzed', 'complex', 'data', 'for', 'management', 'reporting', 'nationwide', 'on', 'wire', 'and', 'deposit', 'accounts', 'providing', 'adequate', 'information', 'for', 'decision', '-', 'making', '.', ' ', 'Held', 'monthly', 'meetings', 'with', 'senior', 'management', 'to', 'provide', 'updates', 'on', 'all', 'team', 'projects', ',', 'roadblocks', 'and', 'recommended', 'solutions', '.', '        ', '02/2002', '  ', 'to', '  ', '09/2007', '    ', 'Client', 'Service', 'Manager', '   ', 'Company', 'Name', '         ', 'Built', 'and', 'fostered', 'a', 'proactive', 'workplace', 'environment', 'resulting', 'in', 'a', 'higher', 'level', 'of', 'employee', 'participation', 'and', 'performance', '.', ' ', 'Supervised', 'a', 'team', 'of', 'seven', 'client', 'service', 'professionals', 'with', 'a', 'primary', 'focus', 'in', 'delivering', 'excellent', 'client', 'service', ',', 'improving', 'processes', ',', 'and', 'leveraging', 'technology', '.', ' ', 'Partnered', 'with', 'Bankers', 'to', 'collect', ',', 'analyze', ',', 'and', 'validate', 'all', 'appropriate', 'due', 'diligence', 'and', 'on', '-', 'boarding', 'documentation', 'provided', 'by', 'client', ';', 'utilized', 'knowledge', 'of', 'AML', '/', 'KYC', 'policy', 'to', 'independently', 'identify', 'missing', 'or', 'insufficient', 'client', 'due', 'diligence', 'information', '.', ' ', 'Responsible', 'for', 'reviewing', ',', 'entering', 'and', 'approving', 'client', 'information', 'in', 'KYC', 'database', ',', 'conducting', 'OFAC', 'reviews', ',', 'and', 'escalating', 'findings', '.', ' ', 'Extensive', 'client', 'contact', 'in', 'partnership', 'with', 'the', 'Bankers', 'to', 'resolve', 'customer', 'concerns', 'in', 'regards', 'to', 'demand', 'deposit', 'accounts', ',', 'short', '-', 'term', 'investments', ',', 'funds', 'transfers', ',', 'and', 'sales', 'opportunities', '.', ' ', 'Actively', 'monitored', 'service', 'delivery', 'for', 'all', 'Services', '/', 'Product', 'to', 'client', '(', 'via', 'MIS', ',', 'internal', 'meetings', ',', 'and', 'client', 'meetings', ')', '.', ' ', 'Gregorio', 'Luna', ',', 'page', '2', '.', '         ', 'Education', '    ', '2003', '    ', 'Bachelor', 'of', 'Professional', 'Studies', ' ', ':', '  ', 'Computer', 'Information', 'Systems', '   ', 'DeVry', 'Institute', 'of', 'Technology', '  ', '－', '    ', 'State', '     ', 'Computer', 'Information', 'Systems', '      ', '1989', '    ', 'Associate', ' ', ':', '  ', 'Applied', 'Science', '-', 'Business', 'Management', 'and', 'administration', '   ', 'Kingsborough', 'Community', 'College', '  ', '－', '  ', 'City', ' ', ',', '  ', 'State', '     ', 'Applied', 'Science', '-', 'Business', 'Management', 'and', 'administration', '       ', 'Skills', '   ', 'Adobe', 'products', ',', 'Photoshop', ',', 'interpersonal', 'and', 'communication', ',', 'oral', ',', 'Credit', ',', 'critical', 'thinking', ',', 'resolve', 'customer', 'concerns', ',', 'client', ',', 'clients', ',', 'database', ',', 'decision', '-', 'making', ',', 'delivery', ',', 'documentation', ',', 'due', 'diligence', ',', 'Employee', 'relations', ',', 'senior', 'management', ',', 'fast', ',', 'focus', ',', 'Front', 'Office', ',', 'functional', ',', 'funds', ',', 'hiring', ',', 'Illustrator', ',', 'investments', ',', 'legal', ',', 'management', 'reporting', ',', 'meetings', ',', 'Excel', ',', 'Money', ',', 'Microsoft', 'Office', ',', 'PowerPoint', ',', 'SharePoint', ',', 'Word', ',', 'MIS', ',', 'organizational', ',', 'page', '2', ',', 'performance', 'management', ',', 'policies', ',', 'problem', 'solving', ',', 'processes', ',', 'improving', 'processes', ',', 'Quality', 'Assurance', ',', 'Real', 'Estate', ',', 'sales', ',', 'self', '-', 'starter', ',', 'Spanish', 'fluency', ',', 'time', 'management', ',', 'written', '  ']\n",
            "Label (y): BANKING\n",
            "==================================================\n"
          ]
        }
      ]
    },
    {
      "cell_type": "code",
      "source": [
        "assert len(X_sequences) == len(y_labels), \"The number of features and labels must be the same.\"\n"
      ],
      "metadata": {
        "id": "C0OKCPpI4DiK"
      },
      "execution_count": 17,
      "outputs": []
    },
    {
      "cell_type": "code",
      "source": [
        "# Check for any missing values in the features or labels\n",
        "missing_features = [i for i, feature in enumerate(X_sequences) if not feature]\n",
        "missing_labels = [i for i, label in enumerate(y_labels) if label is None or label == '']\n",
        "\n",
        "if missing_features:\n",
        "    print(f\"Missing features in rows: {missing_features}\")\n",
        "if missing_labels:\n",
        "    print(f\"Missing labels in rows: {missing_labels}\")\n",
        "\n",
        "# Remove rows with missing features or labels if necessary\n",
        "X_sequences = [X_sequences[i] for i in range(len(X_sequences)) if i not in missing_features and i not in missing_labels]\n",
        "y_labels = [y_labels[i] for i in range(len(y_labels)) if i not in missing_features and i not in missing_labels]\n"
      ],
      "metadata": {
        "id": "ZOgYKkeJ4HAd"
      },
      "execution_count": 18,
      "outputs": []
    },
    {
      "cell_type": "code",
      "source": [
        "# Split the dataset into training and test sets\n",
        "X_train, X_test, y_train, y_test = train_test_split(X_sequences, y_labels, test_size=0.2, random_state=42)\n",
        "\n",
        "# Check lengths again after splitting\n",
        "assert len(X_train) == len(y_train), \"Training features and labels are not aligned.\"\n",
        "assert len(X_test) == len(y_test), \"Test features and labels are not aligned.\"\n",
        "\n",
        "# Optionally print out some samples from the train set to verify\n",
        "print(f\"Sample X_train: {X_train[0]}\")\n",
        "print(f\"Sample y_train: {y_train[0]}\")\n"
      ],
      "metadata": {
        "colab": {
          "base_uri": "https://localhost:8080/"
        },
        "id": "_cRXFJ_S4Ly0",
        "outputId": "54ebe2d5-a32f-4002-dfa7-b93930021f58"
      },
      "execution_count": 19,
      "outputs": [
        {
          "output_type": "stream",
          "name": "stdout",
          "text": [
            "Sample X_train: ['         ', 'SUBSTITUTE', 'TEACHER', '      ', 'Professional', 'Summary', '   ', 'Enthusiastic', 'and', 'self', '-', 'motivated', 'professional', ',', 'with', 'experience', 'as', 'a', 'youth', 'worker', ',', 'seeks', 'an', 'opportunity', 'to', 'enhance', 'existing', 'skills', 'in', 'working', 'with', 'vulnerable', 'children', 'and', 'families', '.', 'I', 'am', 'familiar', 'with', 'the', 'challenges', 'and', 'difficulties', 'that', 'children', 'living', 'in', 'stressful', 'family', 'situations', 'face', 'and', 'am', 'keen', 'to', 'offer', 'support', 'that', 'facilitates', 'lasting', 'change', '.', ' ', 'In', 'my', 'work', 'with', 'students', ',', 'I', 'have', 'direct', 'experience', 'of', 'the', 'impact', 'of', 'abuse', 'and', 'neglect', 'on', 'children', \"'s\", 'development', 'and', 'functioning', '.', 'I', 'wish', 'to', 'work', 'in', 'partnership', 'with', 'other', 'professionals', 'to', 'ensure', 'that', 'children', 'grow', 'up', 'to', 'achieve', 'their', 'full', 'potential', 'in', 'safe', ',', 'loving', 'environments', 'whether', 'that', 'is', 'at', 'home', 'with', 'their', 'birth', 'family', 'or', 'in', 'alternative', 'settings', '.', '     ', 'Core', 'Qualifications', '         ', 'Analytical', 'Thinking', '-', 'Applies', 'logic', 'to', 'solve', 'problems', 'and', 'get', 'the', 'job', 'done', '.', ' \\xa0', 'Knowledge', 'of', 'child', 'development', 'and', 'the', 'impact', 'of', '\\n', 'abuse', '/', 'trauma', 'on', 'children', \"'s\", 'functioning', '\\xa0  ', 'Even', 'Temperament', 'Controlling', 'emotions', 'and', 'not', 'retaliating', 'to', 'negative', 'behavior', '.', ' ', 'Excellent', 'communication', '-', 'Can', 'use', 'language', 'effectively', 'to', 'gather', 'information', 'and', 'facilitate', 'the', 'exchange', 'of', 'ideas', '.', '     ', 'Decision', 'Making', '-', 'Can', 'make', 'decisions', 'and', 'take', 'responsibility', 'for', 'them', '.', ' ', 'Ethics', '-', 'Has', 'personal', 'and', 'professional', 'ethics', 'and', 'fosters', 'a', 'diverse', 'and', 'respectful', 'workplace', '.', ' ', 'Interpersonal', 'Relations', '-', 'Exhibits', 'respect', 'and', 'understand', 'of', 'others', 'to', 'maintain', 'professional', 'relationships', '.', ' ', 'Interpersonal', 'Awareness', ':', 'The', 'ability', 'to', 'have', 'and', 'show', 'empathy', 'to', 'others', '.', 'Listens', 'well', 'and', 'responds', 'in', 'a', 'non', '-', 'threatening', 'way', '.', ' ', 'Results', 'Oriented', '-', 'Achieves', 'goals', 'in', 'a', 'timely', 'manner', 'while', 'providing', 'excellent', 'client', 'service', '.', '           ', 'Experience', '    ', 'April', '2015', '  ', 'to', '  ', 'Current', '    ', 'Company', 'Name', '  ', 'City', ' ', ',', '  ', 'State', '    ', 'Substitute', 'Teacher', '       ', 'Carried', 'out', 'programs', 'of', 'study', 'prescribed', 'in', 'the', 'lesson', 'plans', '.', ' ', 'Built', 'rapport', 'and', 'relationships', 'with', 'students', ',', 'families', 'and', 'staff', '.', ' ', 'Created', 'a', 'classroom', 'environment', 'that', 'is', 'orderly', 'and', 'conducive', 'to', 'learning', 'and', 'appropriate', 'to', 'the', 'maturity', 'and', 'interests', 'of', 'the', 'students', '.', ' ', 'Guided', 'the', 'learning', 'process', 'toward', 'the', 'achievement', 'of', 'curriculum', 'goals', 'and', 'designated', 'outcomes', '.', ' ', 'Established', 'and', 'maintained', 'consistent', 'boundaries', 'for', 'students', 'in', 'regards', 'to', 'conduct', 'and', 'behavior', '.', ' ', 'Ensured', 'that', 'students', 'that', 'are', 'struggling', 'or', 'at', '-', 'risk', 'of', 'failing', 'receive', 'appropriate', 'support', 'as', 'needed', '.', ' ', 'Explored', 'reasons', 'behind', 'student', \"'s\", 'truancy', 'or', 'poor', 'attendance', 'in', 'order', 'to', 'refer', 'onwards', 'to', 'school', 'counselors', '.', ' ', 'Worked', 'in', 'partnership', 'with', 'school', 'staff', 'to', 'achieve', 'learning', 'outcomes', '.', ' ', 'Maintained', 'communication', 'with', 'teachers', 'and', 'family', \"'s\", 'regarding', 'student', \"'s\", 'achievements', '.', ' ', 'Was', 'mindful', 'of', 'and', 'reported', 'any', 'incidents', 'of', 'abuse', ',', 'exploitation', 'or', 'neglect', 'to', 'appropriate', 'professionals', 'in', 'line', 'with', 'district', 'policies', '.', '        ', 'August', '2012', '  ', 'to', '  ', 'August', '2015', '    ', 'Company', 'Name', '  ', 'City', ' ', ',', '  ', 'State', '    ', 'Youth', 'Worker', '       ', 'Built', 'one', 'on', 'one', 'relationships', 'with', 'students', 'of', 'various', 'ages', ',', 'ethnicities', 'and', 'backgrounds', '.', ' ', 'Provided', 'life', 'skill', 'training', '(', 'budgeting', ',', 'personal', 'responsibility', ',', 'integrity', ',', 'job', 'skills', ',', 'etc', ')', 'and', 'mentoring', 'to', 'students', '.', ' ', 'Assisted', 'students', 'with', 'planning', 'for', 'college', '/', 'university', 'attendance', '.', ' ', 'Supported', 'students', 'to', 'grow', 'in', 'self', '-', 'esteem', ',', 'positive', 'coping', 'strategies', ',', 'and', 'social', 'skills', '.', ' ', 'Appropriately', 'discussed', 'difficult', '/', 'traumatic', 'life', 'experiences', 'with', 'students', '(', 'i.e.', ' ', 'poor', 'self', '-', 'esteem', ',', 'bullying', ',', 'stressful', 'home', 'life', ',', 'removal', 'from', 'birth', 'family', ',', 'foster', 'care', ',', 'etc', ')', ';', 'helping', 'them', 'to', 'address', 'negative', 'emotions', '/', 'beliefs', 'surrounding', 'these', 'experiences', '.', ' ', 'Empowered', 'students', 'to', 'develop', 'skills', 'in', 'leadership', ',', 'communication', ',', 'decision', '-', 'making', ',', 'and', 'healthy', 'boundaries', '.', ' ', 'Provided', 'support', 'to', 'students', 'with', 'learning', 'difficulties', '.', ' ', 'Maintained', 'close', 'links', 'with', 'parents', '/', 'family', 'to', 'communicate', 'child', \"'s\", 'progress', '.', ' ', 'Encouraged', 'the', 'involvement', 'of', 'parents', '/', 'family', 'in', 'participating', 'in', 'school', 'and', 'related', 'activities', '.', ' ', 'Reported', 'any', 'incidents', 'of', 'child', 'protection', '/', 'neglect', 'in', 'line', 'with', 'CRU', 'policies', '.', ' ', 'Took', 'the', 'lead', 'in', 'planning', '&', 'organizing', 'successful', 'fundraisers', 'benefiting', 'students', \"'\", 'ongoing', 'development', '.', ' ', 'Liaised', 'with', 'local', 'community', 'to', 'enhance', 'relationships', 'with', 'CRU', '.', ' ', 'Assessed', ',', 'budget', ',', 'and', 'execute', 'organizational', 'goals', '.', ' ', 'Developed', 'Bible', 'studies', 'for', 'students', '.', ' ', 'Built', 'relationships', 'with', 'people', 'to', 'generate', 'financial', 'support', 'for', 'occupation', '.', '        ', 'September', '2010', '  ', 'to', '  ', 'August', '2012', '    ', 'Company', 'Name', '  ', 'City', ' ', ',', '  ', 'State', '    ', 'Mechanic', '       ', 'Performed', 'maintenance', 'on', 'airport', 'and', 'airline', 'facilities', 'and', 'equipment', '.', ' ', 'Performed', 'regular', 'preventive', 'maintenance', 'and', 'corrective', 'maintenance', '.', ' ', 'Submitted', 'manual', 'encoding', '.', ' ', 'Fixed', 'and', 'manage', 'the', 'conveyor', 'belts', 'and', 'carousels', '.', ' ', 'Installed', 'and', 'repaired', 'fire', 'and', 'safety', 'doors', '.', '        ', 'June', '2007', '  ', 'to', '  ', 'September', '2010', '    ', 'Company', 'Name', '  ', 'City', ' ', ',', '  ', 'State', '    ', 'Baggage', 'Handler', '       ', 'Assisted', 'customers', 'with', 'luggage', '.', ' ', 'Helped', 'check', '-', 'in', 'customers', 'bags', 'boarding', 'passes', '.', ' ', 'Reported', 'left', 'behind', 'luggage', 'and', 'contacted', ' ', 'the', 'owner', '.', ' ', 'Managed', 'checkpoint', 'security', 'lanes', '.', '         ', 'Education', '         ', 'Dallas', 'Theological', 'Seminary', '-', 'Houston', 'Campus', '           ', 'Master', 'of', 'Arts', ' ', ':', '  ', 'Christian', 'Education', '   ', 'Christian', 'Education', '      ', '2013', '       ', 'City', ' ', ',', '  ', 'State', '      ', 'Bachelor', 'of', 'Science', ' ', ':', '  ', 'Christian', 'Leadership', '/', 'Biblical', 'Studies', '   ', 'Christian', 'Leadership', '/', 'Biblical', 'Studies', '         ', 'Skills', '    ', '·', '\\xa0\\xa0\\xa0\\xa0\\xa0\\xa0\\xa0\\xa0\\n', 'Computer', 'literate', 'and', 'valid', 'Texas', 'driver', \"'s\", '\\n', 'license', '/', 'insurance', '\\n  \\n', '·', '\\xa0 \\xa0 \\xa0 \\xa0', 'Great', 'communication', 'and', 'note', '-', 'taking', 'skills', '\\xa0  ', '\\u200b', '   ']\n",
            "Sample y_train: TEACHER\n"
          ]
        }
      ]
    },
    {
      "cell_type": "code",
      "source": [
        "import nltk\n",
        "from nltk.tokenize import word_tokenize\n",
        "\n",
        "# Download the punkt tokenizer if not already downloaded\n",
        "nltk.download('punkt')\n",
        "\n",
        "# Tokenize the resumes\n",
        "X_sequences = [word_tokenize(resume) for resume in df_samples['Resume_str']]\n",
        "\n",
        "print(\"Tokenization complete. Sample tokenized resume:\")\n",
        "print(X_sequences[0])  # Print the first tokenized resume as a sample\n"
      ],
      "metadata": {
        "colab": {
          "base_uri": "https://localhost:8080/",
          "height": 755
        },
        "id": "buaUxhLZ4QS-",
        "outputId": "b134121d-f4ee-40a3-e022-51f96dda1cec"
      },
      "execution_count": 21,
      "outputs": [
        {
          "output_type": "stream",
          "name": "stderr",
          "text": [
            "[nltk_data] Downloading package punkt to /root/nltk_data...\n",
            "[nltk_data]   Package punkt is already up-to-date!\n"
          ]
        },
        {
          "output_type": "error",
          "ename": "LookupError",
          "evalue": "\n**********************************************************************\n  Resource \u001b[93mpunkt_tab\u001b[0m not found.\n  Please use the NLTK Downloader to obtain the resource:\n\n  \u001b[31m>>> import nltk\n  >>> nltk.download('punkt_tab')\n  \u001b[0m\n  For more information see: https://www.nltk.org/data.html\n\n  Attempted to load \u001b[93mtokenizers/punkt_tab/english/\u001b[0m\n\n  Searched in:\n    - '/root/nltk_data'\n    - '/usr/nltk_data'\n    - '/usr/share/nltk_data'\n    - '/usr/lib/nltk_data'\n    - '/usr/share/nltk_data'\n    - '/usr/local/share/nltk_data'\n    - '/usr/lib/nltk_data'\n    - '/usr/local/lib/nltk_data'\n**********************************************************************\n",
          "traceback": [
            "\u001b[0;31m---------------------------------------------------------------------------\u001b[0m",
            "\u001b[0;31mLookupError\u001b[0m                               Traceback (most recent call last)",
            "\u001b[0;32m<ipython-input-21-395ee1f3dc40>\u001b[0m in \u001b[0;36m<cell line: 8>\u001b[0;34m()\u001b[0m\n\u001b[1;32m      6\u001b[0m \u001b[0;34m\u001b[0m\u001b[0m\n\u001b[1;32m      7\u001b[0m \u001b[0;31m# Tokenize the resumes\u001b[0m\u001b[0;34m\u001b[0m\u001b[0;34m\u001b[0m\u001b[0m\n\u001b[0;32m----> 8\u001b[0;31m \u001b[0mX_sequences\u001b[0m \u001b[0;34m=\u001b[0m \u001b[0;34m[\u001b[0m\u001b[0mword_tokenize\u001b[0m\u001b[0;34m(\u001b[0m\u001b[0mresume\u001b[0m\u001b[0;34m)\u001b[0m \u001b[0;32mfor\u001b[0m \u001b[0mresume\u001b[0m \u001b[0;32min\u001b[0m \u001b[0mdf_samples\u001b[0m\u001b[0;34m[\u001b[0m\u001b[0;34m'Resume_str'\u001b[0m\u001b[0;34m]\u001b[0m\u001b[0;34m]\u001b[0m\u001b[0;34m\u001b[0m\u001b[0;34m\u001b[0m\u001b[0m\n\u001b[0m\u001b[1;32m      9\u001b[0m \u001b[0;34m\u001b[0m\u001b[0m\n\u001b[1;32m     10\u001b[0m \u001b[0mprint\u001b[0m\u001b[0;34m(\u001b[0m\u001b[0;34m\"Tokenization complete. Sample tokenized resume:\"\u001b[0m\u001b[0;34m)\u001b[0m\u001b[0;34m\u001b[0m\u001b[0;34m\u001b[0m\u001b[0m\n",
            "\u001b[0;32m<ipython-input-21-395ee1f3dc40>\u001b[0m in \u001b[0;36m<listcomp>\u001b[0;34m(.0)\u001b[0m\n\u001b[1;32m      6\u001b[0m \u001b[0;34m\u001b[0m\u001b[0m\n\u001b[1;32m      7\u001b[0m \u001b[0;31m# Tokenize the resumes\u001b[0m\u001b[0;34m\u001b[0m\u001b[0;34m\u001b[0m\u001b[0m\n\u001b[0;32m----> 8\u001b[0;31m \u001b[0mX_sequences\u001b[0m \u001b[0;34m=\u001b[0m \u001b[0;34m[\u001b[0m\u001b[0mword_tokenize\u001b[0m\u001b[0;34m(\u001b[0m\u001b[0mresume\u001b[0m\u001b[0;34m)\u001b[0m \u001b[0;32mfor\u001b[0m \u001b[0mresume\u001b[0m \u001b[0;32min\u001b[0m \u001b[0mdf_samples\u001b[0m\u001b[0;34m[\u001b[0m\u001b[0;34m'Resume_str'\u001b[0m\u001b[0;34m]\u001b[0m\u001b[0;34m]\u001b[0m\u001b[0;34m\u001b[0m\u001b[0;34m\u001b[0m\u001b[0m\n\u001b[0m\u001b[1;32m      9\u001b[0m \u001b[0;34m\u001b[0m\u001b[0m\n\u001b[1;32m     10\u001b[0m \u001b[0mprint\u001b[0m\u001b[0;34m(\u001b[0m\u001b[0;34m\"Tokenization complete. Sample tokenized resume:\"\u001b[0m\u001b[0;34m)\u001b[0m\u001b[0;34m\u001b[0m\u001b[0;34m\u001b[0m\u001b[0m\n",
            "\u001b[0;32m/usr/local/lib/python3.10/dist-packages/nltk/tokenize/__init__.py\u001b[0m in \u001b[0;36mword_tokenize\u001b[0;34m(text, language, preserve_line)\u001b[0m\n\u001b[1;32m    140\u001b[0m     \u001b[0;34m:\u001b[0m\u001b[0mtype\u001b[0m \u001b[0mpreserve_line\u001b[0m\u001b[0;34m:\u001b[0m \u001b[0mbool\u001b[0m\u001b[0;34m\u001b[0m\u001b[0;34m\u001b[0m\u001b[0m\n\u001b[1;32m    141\u001b[0m     \"\"\"\n\u001b[0;32m--> 142\u001b[0;31m     \u001b[0msentences\u001b[0m \u001b[0;34m=\u001b[0m \u001b[0;34m[\u001b[0m\u001b[0mtext\u001b[0m\u001b[0;34m]\u001b[0m \u001b[0;32mif\u001b[0m \u001b[0mpreserve_line\u001b[0m \u001b[0;32melse\u001b[0m \u001b[0msent_tokenize\u001b[0m\u001b[0;34m(\u001b[0m\u001b[0mtext\u001b[0m\u001b[0;34m,\u001b[0m \u001b[0mlanguage\u001b[0m\u001b[0;34m)\u001b[0m\u001b[0;34m\u001b[0m\u001b[0;34m\u001b[0m\u001b[0m\n\u001b[0m\u001b[1;32m    143\u001b[0m     return [\n\u001b[1;32m    144\u001b[0m         \u001b[0mtoken\u001b[0m \u001b[0;32mfor\u001b[0m \u001b[0msent\u001b[0m \u001b[0;32min\u001b[0m \u001b[0msentences\u001b[0m \u001b[0;32mfor\u001b[0m \u001b[0mtoken\u001b[0m \u001b[0;32min\u001b[0m \u001b[0m_treebank_word_tokenizer\u001b[0m\u001b[0;34m.\u001b[0m\u001b[0mtokenize\u001b[0m\u001b[0;34m(\u001b[0m\u001b[0msent\u001b[0m\u001b[0;34m)\u001b[0m\u001b[0;34m\u001b[0m\u001b[0;34m\u001b[0m\u001b[0m\n",
            "\u001b[0;32m/usr/local/lib/python3.10/dist-packages/nltk/tokenize/__init__.py\u001b[0m in \u001b[0;36msent_tokenize\u001b[0;34m(text, language)\u001b[0m\n\u001b[1;32m    117\u001b[0m     \u001b[0;34m:\u001b[0m\u001b[0mparam\u001b[0m \u001b[0mlanguage\u001b[0m\u001b[0;34m:\u001b[0m \u001b[0mthe\u001b[0m \u001b[0mmodel\u001b[0m \u001b[0mname\u001b[0m \u001b[0;32min\u001b[0m \u001b[0mthe\u001b[0m \u001b[0mPunkt\u001b[0m \u001b[0mcorpus\u001b[0m\u001b[0;34m\u001b[0m\u001b[0;34m\u001b[0m\u001b[0m\n\u001b[1;32m    118\u001b[0m     \"\"\"\n\u001b[0;32m--> 119\u001b[0;31m     \u001b[0mtokenizer\u001b[0m \u001b[0;34m=\u001b[0m \u001b[0m_get_punkt_tokenizer\u001b[0m\u001b[0;34m(\u001b[0m\u001b[0mlanguage\u001b[0m\u001b[0;34m)\u001b[0m\u001b[0;34m\u001b[0m\u001b[0;34m\u001b[0m\u001b[0m\n\u001b[0m\u001b[1;32m    120\u001b[0m     \u001b[0;32mreturn\u001b[0m \u001b[0mtokenizer\u001b[0m\u001b[0;34m.\u001b[0m\u001b[0mtokenize\u001b[0m\u001b[0;34m(\u001b[0m\u001b[0mtext\u001b[0m\u001b[0;34m)\u001b[0m\u001b[0;34m\u001b[0m\u001b[0;34m\u001b[0m\u001b[0m\n\u001b[1;32m    121\u001b[0m \u001b[0;34m\u001b[0m\u001b[0m\n",
            "\u001b[0;32m/usr/local/lib/python3.10/dist-packages/nltk/tokenize/__init__.py\u001b[0m in \u001b[0;36m_get_punkt_tokenizer\u001b[0;34m(language)\u001b[0m\n\u001b[1;32m    103\u001b[0m     \u001b[0;34m:\u001b[0m\u001b[0mtype\u001b[0m \u001b[0mlanguage\u001b[0m\u001b[0;34m:\u001b[0m \u001b[0mstr\u001b[0m\u001b[0;34m\u001b[0m\u001b[0;34m\u001b[0m\u001b[0m\n\u001b[1;32m    104\u001b[0m     \"\"\"\n\u001b[0;32m--> 105\u001b[0;31m     \u001b[0;32mreturn\u001b[0m \u001b[0mPunktTokenizer\u001b[0m\u001b[0;34m(\u001b[0m\u001b[0mlanguage\u001b[0m\u001b[0;34m)\u001b[0m\u001b[0;34m\u001b[0m\u001b[0;34m\u001b[0m\u001b[0m\n\u001b[0m\u001b[1;32m    106\u001b[0m \u001b[0;34m\u001b[0m\u001b[0m\n\u001b[1;32m    107\u001b[0m \u001b[0;34m\u001b[0m\u001b[0m\n",
            "\u001b[0;32m/usr/local/lib/python3.10/dist-packages/nltk/tokenize/punkt.py\u001b[0m in \u001b[0;36m__init__\u001b[0;34m(self, lang)\u001b[0m\n\u001b[1;32m   1742\u001b[0m     \u001b[0;32mdef\u001b[0m \u001b[0m__init__\u001b[0m\u001b[0;34m(\u001b[0m\u001b[0mself\u001b[0m\u001b[0;34m,\u001b[0m \u001b[0mlang\u001b[0m\u001b[0;34m=\u001b[0m\u001b[0;34m\"english\"\u001b[0m\u001b[0;34m)\u001b[0m\u001b[0;34m:\u001b[0m\u001b[0;34m\u001b[0m\u001b[0;34m\u001b[0m\u001b[0m\n\u001b[1;32m   1743\u001b[0m         \u001b[0mPunktSentenceTokenizer\u001b[0m\u001b[0;34m.\u001b[0m\u001b[0m__init__\u001b[0m\u001b[0;34m(\u001b[0m\u001b[0mself\u001b[0m\u001b[0;34m)\u001b[0m\u001b[0;34m\u001b[0m\u001b[0;34m\u001b[0m\u001b[0m\n\u001b[0;32m-> 1744\u001b[0;31m         \u001b[0mself\u001b[0m\u001b[0;34m.\u001b[0m\u001b[0mload_lang\u001b[0m\u001b[0;34m(\u001b[0m\u001b[0mlang\u001b[0m\u001b[0;34m)\u001b[0m\u001b[0;34m\u001b[0m\u001b[0;34m\u001b[0m\u001b[0m\n\u001b[0m\u001b[1;32m   1745\u001b[0m \u001b[0;34m\u001b[0m\u001b[0m\n\u001b[1;32m   1746\u001b[0m     \u001b[0;32mdef\u001b[0m \u001b[0mload_lang\u001b[0m\u001b[0;34m(\u001b[0m\u001b[0mself\u001b[0m\u001b[0;34m,\u001b[0m \u001b[0mlang\u001b[0m\u001b[0;34m=\u001b[0m\u001b[0;34m\"english\"\u001b[0m\u001b[0;34m)\u001b[0m\u001b[0;34m:\u001b[0m\u001b[0;34m\u001b[0m\u001b[0;34m\u001b[0m\u001b[0m\n",
            "\u001b[0;32m/usr/local/lib/python3.10/dist-packages/nltk/tokenize/punkt.py\u001b[0m in \u001b[0;36mload_lang\u001b[0;34m(self, lang)\u001b[0m\n\u001b[1;32m   1747\u001b[0m         \u001b[0;32mfrom\u001b[0m \u001b[0mnltk\u001b[0m\u001b[0;34m.\u001b[0m\u001b[0mdata\u001b[0m \u001b[0;32mimport\u001b[0m \u001b[0mfind\u001b[0m\u001b[0;34m\u001b[0m\u001b[0;34m\u001b[0m\u001b[0m\n\u001b[1;32m   1748\u001b[0m \u001b[0;34m\u001b[0m\u001b[0m\n\u001b[0;32m-> 1749\u001b[0;31m         \u001b[0mlang_dir\u001b[0m \u001b[0;34m=\u001b[0m \u001b[0mfind\u001b[0m\u001b[0;34m(\u001b[0m\u001b[0;34mf\"tokenizers/punkt_tab/{lang}/\"\u001b[0m\u001b[0;34m)\u001b[0m\u001b[0;34m\u001b[0m\u001b[0;34m\u001b[0m\u001b[0m\n\u001b[0m\u001b[1;32m   1750\u001b[0m         \u001b[0mself\u001b[0m\u001b[0;34m.\u001b[0m\u001b[0m_params\u001b[0m \u001b[0;34m=\u001b[0m \u001b[0mload_punkt_params\u001b[0m\u001b[0;34m(\u001b[0m\u001b[0mlang_dir\u001b[0m\u001b[0;34m)\u001b[0m\u001b[0;34m\u001b[0m\u001b[0;34m\u001b[0m\u001b[0m\n\u001b[1;32m   1751\u001b[0m         \u001b[0mself\u001b[0m\u001b[0;34m.\u001b[0m\u001b[0m_lang\u001b[0m \u001b[0;34m=\u001b[0m \u001b[0mlang\u001b[0m\u001b[0;34m\u001b[0m\u001b[0;34m\u001b[0m\u001b[0m\n",
            "\u001b[0;32m/usr/local/lib/python3.10/dist-packages/nltk/data.py\u001b[0m in \u001b[0;36mfind\u001b[0;34m(resource_name, paths)\u001b[0m\n\u001b[1;32m    577\u001b[0m     \u001b[0msep\u001b[0m \u001b[0;34m=\u001b[0m \u001b[0;34m\"*\"\u001b[0m \u001b[0;34m*\u001b[0m \u001b[0;36m70\u001b[0m\u001b[0;34m\u001b[0m\u001b[0;34m\u001b[0m\u001b[0m\n\u001b[1;32m    578\u001b[0m     \u001b[0mresource_not_found\u001b[0m \u001b[0;34m=\u001b[0m \u001b[0;34mf\"\\n{sep}\\n{msg}\\n{sep}\\n\"\u001b[0m\u001b[0;34m\u001b[0m\u001b[0;34m\u001b[0m\u001b[0m\n\u001b[0;32m--> 579\u001b[0;31m     \u001b[0;32mraise\u001b[0m \u001b[0mLookupError\u001b[0m\u001b[0;34m(\u001b[0m\u001b[0mresource_not_found\u001b[0m\u001b[0;34m)\u001b[0m\u001b[0;34m\u001b[0m\u001b[0;34m\u001b[0m\u001b[0m\n\u001b[0m\u001b[1;32m    580\u001b[0m \u001b[0;34m\u001b[0m\u001b[0m\n\u001b[1;32m    581\u001b[0m \u001b[0;34m\u001b[0m\u001b[0m\n",
            "\u001b[0;31mLookupError\u001b[0m: \n**********************************************************************\n  Resource \u001b[93mpunkt_tab\u001b[0m not found.\n  Please use the NLTK Downloader to obtain the resource:\n\n  \u001b[31m>>> import nltk\n  >>> nltk.download('punkt_tab')\n  \u001b[0m\n  For more information see: https://www.nltk.org/data.html\n\n  Attempted to load \u001b[93mtokenizers/punkt_tab/english/\u001b[0m\n\n  Searched in:\n    - '/root/nltk_data'\n    - '/usr/nltk_data'\n    - '/usr/share/nltk_data'\n    - '/usr/lib/nltk_data'\n    - '/usr/share/nltk_data'\n    - '/usr/local/share/nltk_data'\n    - '/usr/lib/nltk_data'\n    - '/usr/local/lib/nltk_data'\n**********************************************************************\n"
          ]
        }
      ]
    },
    {
      "cell_type": "code",
      "source": [
        "from sklearn_crfsuite import CRF\n",
        "from sklearn.model_selection import train_test_split\n",
        "import numpy as np\n",
        "\n",
        "# Ensure that your features and labels are properly aligned.\n",
        "# X_df should contain the features (tokens or words) and 'Category' should be the labels.\n",
        "\n",
        "# For CRF, we need to pass each resume as a list of words (sequence data)\n",
        "# Since CRF is typically used for sequence tagging, let's treat each resume as a sequence of tokens.\n",
        "\n",
        "# Convert resumes into tokenized sequences if not already done\n",
        "X_sequences = df_samples['Tokens'].tolist()  # Assuming 'Tokens' contains tokenized words in a list\n",
        "y_labels = df_samples['Category'].tolist()  # Assuming 'Category' contains labels for each resume\n",
        "\n",
        "# Ensure that the lengths match\n",
        "assert len(X_sequences) == len(y_labels), \"Feature and label lengths do not match.\"\n",
        "\n",
        "# Split dataset into training and testing sets\n",
        "X_train, X_test, y_train, y_test = train_test_split(X_sequences, y_labels, test_size=0.2, random_state=42)\n",
        "\n",
        "# Check the first entry of training data to see the format\n",
        "print(f\"X_train sample: {X_train[0]}\")\n",
        "print(f\"y_train sample: {y_train[0]}\")\n",
        "\n",
        "# For CRF, we need to extract features for each token in the resume\n",
        "# Here's a function to create features from tokens\n",
        "def create_features(tokens):\n",
        "    return [{'word': token} for token in tokens]\n",
        "\n",
        "# Convert the train and test data into the format CRF expects\n",
        "X_train_features = [create_features(tokens) for tokens in X_train]\n",
        "X_test_features = [create_features(tokens) for tokens in X_test]\n",
        "\n",
        "# Train a CRF model\n",
        "crf = CRF(algorithm='lbfgs')\n",
        "crf.fit(X_train_features, y_train)\n",
        "\n",
        "# Make predictions\n",
        "y_pred = crf.predict(X_test_features)\n",
        "\n",
        "# Output the predictions\n",
        "print(\"Predictions:\", y_pred)\n",
        "\n",
        "# Check for number of mismatches\n",
        "print(f\"Length of y_pred: {len(y_pred)}\")\n",
        "print(f\"Length of X_test: {len(X_test)}\")\n"
      ],
      "metadata": {
        "colab": {
          "base_uri": "https://localhost:8080/",
          "height": 324
        },
        "id": "karqlRMR2AOR",
        "outputId": "ed39ff65-3ee9-4e96-cfa1-0cfd1fabc2be"
      },
      "execution_count": 15,
      "outputs": [
        {
          "output_type": "stream",
          "name": "stdout",
          "text": [
            "X_train sample: ['         ', 'SUBSTITUTE', 'TEACHER', '      ', 'Professional', 'Summary', '   ', 'Enthusiastic', 'and', 'self', '-', 'motivated', 'professional', ',', 'with', 'experience', 'as', 'a', 'youth', 'worker', ',', 'seeks', 'an', 'opportunity', 'to', 'enhance', 'existing', 'skills', 'in', 'working', 'with', 'vulnerable', 'children', 'and', 'families', '.', 'I', 'am', 'familiar', 'with', 'the', 'challenges', 'and', 'difficulties', 'that', 'children', 'living', 'in', 'stressful', 'family', 'situations', 'face', 'and', 'am', 'keen', 'to', 'offer', 'support', 'that', 'facilitates', 'lasting', 'change', '.', ' ', 'In', 'my', 'work', 'with', 'students', ',', 'I', 'have', 'direct', 'experience', 'of', 'the', 'impact', 'of', 'abuse', 'and', 'neglect', 'on', 'children', \"'s\", 'development', 'and', 'functioning', '.', 'I', 'wish', 'to', 'work', 'in', 'partnership', 'with', 'other', 'professionals', 'to', 'ensure', 'that', 'children', 'grow', 'up', 'to', 'achieve', 'their', 'full', 'potential', 'in', 'safe', ',', 'loving', 'environments', 'whether', 'that', 'is', 'at', 'home', 'with', 'their', 'birth', 'family', 'or', 'in', 'alternative', 'settings', '.', '     ', 'Core', 'Qualifications', '         ', 'Analytical', 'Thinking', '-', 'Applies', 'logic', 'to', 'solve', 'problems', 'and', 'get', 'the', 'job', 'done', '.', ' \\xa0', 'Knowledge', 'of', 'child', 'development', 'and', 'the', 'impact', 'of', '\\n', 'abuse', '/', 'trauma', 'on', 'children', \"'s\", 'functioning', '\\xa0  ', 'Even', 'Temperament', 'Controlling', 'emotions', 'and', 'not', 'retaliating', 'to', 'negative', 'behavior', '.', ' ', 'Excellent', 'communication', '-', 'Can', 'use', 'language', 'effectively', 'to', 'gather', 'information', 'and', 'facilitate', 'the', 'exchange', 'of', 'ideas', '.', '     ', 'Decision', 'Making', '-', 'Can', 'make', 'decisions', 'and', 'take', 'responsibility', 'for', 'them', '.', ' ', 'Ethics', '-', 'Has', 'personal', 'and', 'professional', 'ethics', 'and', 'fosters', 'a', 'diverse', 'and', 'respectful', 'workplace', '.', ' ', 'Interpersonal', 'Relations', '-', 'Exhibits', 'respect', 'and', 'understand', 'of', 'others', 'to', 'maintain', 'professional', 'relationships', '.', ' ', 'Interpersonal', 'Awareness', ':', 'The', 'ability', 'to', 'have', 'and', 'show', 'empathy', 'to', 'others', '.', 'Listens', 'well', 'and', 'responds', 'in', 'a', 'non', '-', 'threatening', 'way', '.', ' ', 'Results', 'Oriented', '-', 'Achieves', 'goals', 'in', 'a', 'timely', 'manner', 'while', 'providing', 'excellent', 'client', 'service', '.', '           ', 'Experience', '    ', 'April', '2015', '  ', 'to', '  ', 'Current', '    ', 'Company', 'Name', '  ', 'City', ' ', ',', '  ', 'State', '    ', 'Substitute', 'Teacher', '       ', 'Carried', 'out', 'programs', 'of', 'study', 'prescribed', 'in', 'the', 'lesson', 'plans', '.', ' ', 'Built', 'rapport', 'and', 'relationships', 'with', 'students', ',', 'families', 'and', 'staff', '.', ' ', 'Created', 'a', 'classroom', 'environment', 'that', 'is', 'orderly', 'and', 'conducive', 'to', 'learning', 'and', 'appropriate', 'to', 'the', 'maturity', 'and', 'interests', 'of', 'the', 'students', '.', ' ', 'Guided', 'the', 'learning', 'process', 'toward', 'the', 'achievement', 'of', 'curriculum', 'goals', 'and', 'designated', 'outcomes', '.', ' ', 'Established', 'and', 'maintained', 'consistent', 'boundaries', 'for', 'students', 'in', 'regards', 'to', 'conduct', 'and', 'behavior', '.', ' ', 'Ensured', 'that', 'students', 'that', 'are', 'struggling', 'or', 'at', '-', 'risk', 'of', 'failing', 'receive', 'appropriate', 'support', 'as', 'needed', '.', ' ', 'Explored', 'reasons', 'behind', 'student', \"'s\", 'truancy', 'or', 'poor', 'attendance', 'in', 'order', 'to', 'refer', 'onwards', 'to', 'school', 'counselors', '.', ' ', 'Worked', 'in', 'partnership', 'with', 'school', 'staff', 'to', 'achieve', 'learning', 'outcomes', '.', ' ', 'Maintained', 'communication', 'with', 'teachers', 'and', 'family', \"'s\", 'regarding', 'student', \"'s\", 'achievements', '.', ' ', 'Was', 'mindful', 'of', 'and', 'reported', 'any', 'incidents', 'of', 'abuse', ',', 'exploitation', 'or', 'neglect', 'to', 'appropriate', 'professionals', 'in', 'line', 'with', 'district', 'policies', '.', '        ', 'August', '2012', '  ', 'to', '  ', 'August', '2015', '    ', 'Company', 'Name', '  ', 'City', ' ', ',', '  ', 'State', '    ', 'Youth', 'Worker', '       ', 'Built', 'one', 'on', 'one', 'relationships', 'with', 'students', 'of', 'various', 'ages', ',', 'ethnicities', 'and', 'backgrounds', '.', ' ', 'Provided', 'life', 'skill', 'training', '(', 'budgeting', ',', 'personal', 'responsibility', ',', 'integrity', ',', 'job', 'skills', ',', 'etc', ')', 'and', 'mentoring', 'to', 'students', '.', ' ', 'Assisted', 'students', 'with', 'planning', 'for', 'college', '/', 'university', 'attendance', '.', ' ', 'Supported', 'students', 'to', 'grow', 'in', 'self', '-', 'esteem', ',', 'positive', 'coping', 'strategies', ',', 'and', 'social', 'skills', '.', ' ', 'Appropriately', 'discussed', 'difficult', '/', 'traumatic', 'life', 'experiences', 'with', 'students', '(', 'i.e.', ' ', 'poor', 'self', '-', 'esteem', ',', 'bullying', ',', 'stressful', 'home', 'life', ',', 'removal', 'from', 'birth', 'family', ',', 'foster', 'care', ',', 'etc', ')', ';', 'helping', 'them', 'to', 'address', 'negative', 'emotions', '/', 'beliefs', 'surrounding', 'these', 'experiences', '.', ' ', 'Empowered', 'students', 'to', 'develop', 'skills', 'in', 'leadership', ',', 'communication', ',', 'decision', '-', 'making', ',', 'and', 'healthy', 'boundaries', '.', ' ', 'Provided', 'support', 'to', 'students', 'with', 'learning', 'difficulties', '.', ' ', 'Maintained', 'close', 'links', 'with', 'parents', '/', 'family', 'to', 'communicate', 'child', \"'s\", 'progress', '.', ' ', 'Encouraged', 'the', 'involvement', 'of', 'parents', '/', 'family', 'in', 'participating', 'in', 'school', 'and', 'related', 'activities', '.', ' ', 'Reported', 'any', 'incidents', 'of', 'child', 'protection', '/', 'neglect', 'in', 'line', 'with', 'CRU', 'policies', '.', ' ', 'Took', 'the', 'lead', 'in', 'planning', '&', 'organizing', 'successful', 'fundraisers', 'benefiting', 'students', \"'\", 'ongoing', 'development', '.', ' ', 'Liaised', 'with', 'local', 'community', 'to', 'enhance', 'relationships', 'with', 'CRU', '.', ' ', 'Assessed', ',', 'budget', ',', 'and', 'execute', 'organizational', 'goals', '.', ' ', 'Developed', 'Bible', 'studies', 'for', 'students', '.', ' ', 'Built', 'relationships', 'with', 'people', 'to', 'generate', 'financial', 'support', 'for', 'occupation', '.', '        ', 'September', '2010', '  ', 'to', '  ', 'August', '2012', '    ', 'Company', 'Name', '  ', 'City', ' ', ',', '  ', 'State', '    ', 'Mechanic', '       ', 'Performed', 'maintenance', 'on', 'airport', 'and', 'airline', 'facilities', 'and', 'equipment', '.', ' ', 'Performed', 'regular', 'preventive', 'maintenance', 'and', 'corrective', 'maintenance', '.', ' ', 'Submitted', 'manual', 'encoding', '.', ' ', 'Fixed', 'and', 'manage', 'the', 'conveyor', 'belts', 'and', 'carousels', '.', ' ', 'Installed', 'and', 'repaired', 'fire', 'and', 'safety', 'doors', '.', '        ', 'June', '2007', '  ', 'to', '  ', 'September', '2010', '    ', 'Company', 'Name', '  ', 'City', ' ', ',', '  ', 'State', '    ', 'Baggage', 'Handler', '       ', 'Assisted', 'customers', 'with', 'luggage', '.', ' ', 'Helped', 'check', '-', 'in', 'customers', 'bags', 'boarding', 'passes', '.', ' ', 'Reported', 'left', 'behind', 'luggage', 'and', 'contacted', ' ', 'the', 'owner', '.', ' ', 'Managed', 'checkpoint', 'security', 'lanes', '.', '         ', 'Education', '         ', 'Dallas', 'Theological', 'Seminary', '-', 'Houston', 'Campus', '           ', 'Master', 'of', 'Arts', ' ', ':', '  ', 'Christian', 'Education', '   ', 'Christian', 'Education', '      ', '2013', '       ', 'City', ' ', ',', '  ', 'State', '      ', 'Bachelor', 'of', 'Science', ' ', ':', '  ', 'Christian', 'Leadership', '/', 'Biblical', 'Studies', '   ', 'Christian', 'Leadership', '/', 'Biblical', 'Studies', '         ', 'Skills', '    ', '·', '\\xa0\\xa0\\xa0\\xa0\\xa0\\xa0\\xa0\\xa0\\n', 'Computer', 'literate', 'and', 'valid', 'Texas', 'driver', \"'s\", '\\n', 'license', '/', 'insurance', '\\n  \\n', '·', '\\xa0 \\xa0 \\xa0 \\xa0', 'Great', 'communication', 'and', 'note', '-', 'taking', 'skills', '\\xa0  ', '\\u200b', '   ']\n",
            "y_train sample: TEACHER\n"
          ]
        },
        {
          "output_type": "error",
          "ename": "ValueError",
          "evalue": "The numbers of items and labels differ: |x| = 917, |y| = 7",
          "traceback": [
            "\u001b[0;31m---------------------------------------------------------------------------\u001b[0m",
            "\u001b[0;31mValueError\u001b[0m                                Traceback (most recent call last)",
            "\u001b[0;32m<ipython-input-15-83b87d9961d1>\u001b[0m in \u001b[0;36m<cell line: 36>\u001b[0;34m()\u001b[0m\n\u001b[1;32m     34\u001b[0m \u001b[0;31m# Train a CRF model\u001b[0m\u001b[0;34m\u001b[0m\u001b[0;34m\u001b[0m\u001b[0m\n\u001b[1;32m     35\u001b[0m \u001b[0mcrf\u001b[0m \u001b[0;34m=\u001b[0m \u001b[0mCRF\u001b[0m\u001b[0;34m(\u001b[0m\u001b[0malgorithm\u001b[0m\u001b[0;34m=\u001b[0m\u001b[0;34m'lbfgs'\u001b[0m\u001b[0;34m)\u001b[0m\u001b[0;34m\u001b[0m\u001b[0;34m\u001b[0m\u001b[0m\n\u001b[0;32m---> 36\u001b[0;31m \u001b[0mcrf\u001b[0m\u001b[0;34m.\u001b[0m\u001b[0mfit\u001b[0m\u001b[0;34m(\u001b[0m\u001b[0mX_train_features\u001b[0m\u001b[0;34m,\u001b[0m \u001b[0my_train\u001b[0m\u001b[0;34m)\u001b[0m\u001b[0;34m\u001b[0m\u001b[0;34m\u001b[0m\u001b[0m\n\u001b[0m\u001b[1;32m     37\u001b[0m \u001b[0;34m\u001b[0m\u001b[0m\n\u001b[1;32m     38\u001b[0m \u001b[0;31m# Make predictions\u001b[0m\u001b[0;34m\u001b[0m\u001b[0;34m\u001b[0m\u001b[0m\n",
            "\u001b[0;32m/usr/local/lib/python3.10/dist-packages/sklearn_crfsuite/estimator.py\u001b[0m in \u001b[0;36mfit\u001b[0;34m(self, X, y, X_dev, y_dev)\u001b[0m\n\u001b[1;32m    316\u001b[0m \u001b[0;34m\u001b[0m\u001b[0m\n\u001b[1;32m    317\u001b[0m         \u001b[0;32mfor\u001b[0m \u001b[0mxseq\u001b[0m\u001b[0;34m,\u001b[0m \u001b[0myseq\u001b[0m \u001b[0;32min\u001b[0m \u001b[0mtrain_data\u001b[0m\u001b[0;34m:\u001b[0m\u001b[0;34m\u001b[0m\u001b[0;34m\u001b[0m\u001b[0m\n\u001b[0;32m--> 318\u001b[0;31m             \u001b[0mtrainer\u001b[0m\u001b[0;34m.\u001b[0m\u001b[0mappend\u001b[0m\u001b[0;34m(\u001b[0m\u001b[0mxseq\u001b[0m\u001b[0;34m,\u001b[0m \u001b[0myseq\u001b[0m\u001b[0;34m)\u001b[0m\u001b[0;34m\u001b[0m\u001b[0;34m\u001b[0m\u001b[0m\n\u001b[0m\u001b[1;32m    319\u001b[0m \u001b[0;34m\u001b[0m\u001b[0m\n\u001b[1;32m    320\u001b[0m         \u001b[0;32mif\u001b[0m \u001b[0mself\u001b[0m\u001b[0;34m.\u001b[0m\u001b[0mverbose\u001b[0m\u001b[0;34m:\u001b[0m\u001b[0;34m\u001b[0m\u001b[0;34m\u001b[0m\u001b[0m\n",
            "\u001b[0;32m/usr/local/lib/python3.10/dist-packages/pycrfsuite/_pycrfsuite.pyx\u001b[0m in \u001b[0;36mpycrfsuite._pycrfsuite.BaseTrainer.append\u001b[0;34m()\u001b[0m\n",
            "\u001b[0;31mValueError\u001b[0m: The numbers of items and labels differ: |x| = 917, |y| = 7"
          ]
        }
      ]
    },
    {
      "cell_type": "code",
      "source": [],
      "metadata": {
        "id": "8CIiexzm2C3k"
      },
      "execution_count": null,
      "outputs": []
    }
  ]
}